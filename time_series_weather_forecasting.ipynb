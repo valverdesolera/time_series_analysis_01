{
 "cells": [
  {
   "cell_type": "markdown",
   "source": [
    "# Time Series Analysis:\n",
    "Original Notebook: https://www.kaggle.com/code/foucardm/tensorflow-certification-time-series/notebook\n",
    "Focused on time series and forecasting methods using both CNN's and RNN's. This will be discussed:\n",
    "1. Train, tune and use time series, sequence and prediction models\n",
    "2. Prepare data for time series learning\n",
    "3. Use RNN's and CNN's for time series, sequence and forecasting models\n",
    "4. Using trailing windows vs centered windows\n",
    "5. Using *Tensorflow* for time series\n",
    "6. Identify and compensate for sequence bias\n",
    "7. Adjusting the learning rate dynamically in time series, sequence and prediction models\n",
    "\n",
    "*I want to forecast temperature for the next hour given the 48 previous hours of features*"
   ],
   "metadata": {
    "collapsed": false
   },
   "id": "eb05bee64bf0c668"
  },
  {
   "cell_type": "markdown",
   "source": [
    "## Preparing the data"
   ],
   "metadata": {
    "collapsed": false
   },
   "id": "49a683114187bf4f"
  },
  {
   "cell_type": "markdown",
   "source": [
    "### Downloading the data"
   ],
   "metadata": {
    "collapsed": false
   },
   "id": "c136fc06e10f8451"
  },
  {
   "cell_type": "code",
   "execution_count": 3,
   "outputs": [],
   "source": [
    "import datetime as dt\n",
    "# Importing the necessary libraries\n",
    "import os\n",
    "\n",
    "import matplotlib as mpl\n",
    "import numpy as np\n",
    "import pandas as pd\n",
    "import tensorflow as tf"
   ],
   "metadata": {
    "collapsed": false,
    "ExecuteTime": {
     "end_time": "2023-09-20T00:54:02.044953300Z",
     "start_time": "2023-09-20T00:53:54.905627800Z"
    }
   },
   "id": "a6288673c4f369a6"
  },
  {
   "cell_type": "code",
   "execution_count": 4,
   "outputs": [],
   "source": [
    "# Setting some configurations on matplotlib\n",
    "mpl.rcParams[\"figure.figsize\"] = (8, 6)\n",
    "mpl.rcParams[\"axes.grid\"] = False"
   ],
   "metadata": {
    "collapsed": false,
    "ExecuteTime": {
     "end_time": "2023-09-20T00:54:02.060574300Z",
     "start_time": "2023-09-20T00:54:02.044953300Z"
    }
   },
   "id": "7b28553965290d17"
  },
  {
   "cell_type": "code",
   "execution_count": 5,
   "outputs": [],
   "source": [
    "# Downloading the dataset:\n",
    "zip_path = tf.keras.utils.get_file(\n",
    "    origin=\"https://storage.googleapis.com/tensorflow/tf-keras-datasets/jena_climate_2009_2016.csv.zip\",\n",
    "    fname=\"jena_climate_2009_2016.csv.zip\",\n",
    "    extract=True\n",
    ")\n",
    "csv_path, _ = os.path.splitext(zip_path)"
   ],
   "metadata": {
    "collapsed": false,
    "ExecuteTime": {
     "end_time": "2023-09-20T00:54:02.404136200Z",
     "start_time": "2023-09-20T00:54:02.060574300Z"
    }
   },
   "id": "e5b42d479d220097"
  },
  {
   "cell_type": "code",
   "execution_count": 6,
   "outputs": [
    {
     "data": {
      "text/plain": "                  Date Time  p (mbar)  T (degC)  Tpot (K)  Tdew (degC)  \\\n22070   03.06.2009 06:30:00    986.41      9.53    283.80         3.63   \n166633  02.03.2012 04:40:00    998.93      7.92    281.17         7.38   \n372439  29.01.2016 19:20:00    996.65      7.74    281.17         0.42   \n304363  14.10.2014 01:20:00    982.32     12.98    287.60        12.14   \n266724  26.01.2014 06:40:00    981.77     -7.87    266.69        -9.07   \n\n        rh (%)  VPmax (mbar)  VPact (mbar)  VPdef (mbar)  sh (g/kg)  \\\n22070    66.53         11.91          7.92          3.99       5.01   \n166633   96.40         10.68         10.30          0.38       6.44   \n372439   59.69         10.55          6.30          4.25       3.94   \n304363   94.60         14.98         14.17          0.81       9.02   \n266724   91.00          3.37          3.07          0.30       1.95   \n\n        H2OC (mmol/mol)  rho (g/m**3)  wv (m/s)  max. wv (m/s)  wd (deg)  \n22070              8.03       1211.87      2.70           4.88    287.00  \n166633            10.31       1233.22      1.03           1.36     37.57  \n372439             6.32       1233.05      7.15          10.09    217.40  \n304363            14.42       1189.40      0.68           1.16    179.30  \n266724             3.13       1287.67      4.05           5.21      8.97  ",
      "text/html": "<div>\n<style scoped>\n    .dataframe tbody tr th:only-of-type {\n        vertical-align: middle;\n    }\n\n    .dataframe tbody tr th {\n        vertical-align: top;\n    }\n\n    .dataframe thead th {\n        text-align: right;\n    }\n</style>\n<table border=\"1\" class=\"dataframe\">\n  <thead>\n    <tr style=\"text-align: right;\">\n      <th></th>\n      <th>Date Time</th>\n      <th>p (mbar)</th>\n      <th>T (degC)</th>\n      <th>Tpot (K)</th>\n      <th>Tdew (degC)</th>\n      <th>rh (%)</th>\n      <th>VPmax (mbar)</th>\n      <th>VPact (mbar)</th>\n      <th>VPdef (mbar)</th>\n      <th>sh (g/kg)</th>\n      <th>H2OC (mmol/mol)</th>\n      <th>rho (g/m**3)</th>\n      <th>wv (m/s)</th>\n      <th>max. wv (m/s)</th>\n      <th>wd (deg)</th>\n    </tr>\n  </thead>\n  <tbody>\n    <tr>\n      <th>22070</th>\n      <td>03.06.2009 06:30:00</td>\n      <td>986.41</td>\n      <td>9.53</td>\n      <td>283.80</td>\n      <td>3.63</td>\n      <td>66.53</td>\n      <td>11.91</td>\n      <td>7.92</td>\n      <td>3.99</td>\n      <td>5.01</td>\n      <td>8.03</td>\n      <td>1211.87</td>\n      <td>2.70</td>\n      <td>4.88</td>\n      <td>287.00</td>\n    </tr>\n    <tr>\n      <th>166633</th>\n      <td>02.03.2012 04:40:00</td>\n      <td>998.93</td>\n      <td>7.92</td>\n      <td>281.17</td>\n      <td>7.38</td>\n      <td>96.40</td>\n      <td>10.68</td>\n      <td>10.30</td>\n      <td>0.38</td>\n      <td>6.44</td>\n      <td>10.31</td>\n      <td>1233.22</td>\n      <td>1.03</td>\n      <td>1.36</td>\n      <td>37.57</td>\n    </tr>\n    <tr>\n      <th>372439</th>\n      <td>29.01.2016 19:20:00</td>\n      <td>996.65</td>\n      <td>7.74</td>\n      <td>281.17</td>\n      <td>0.42</td>\n      <td>59.69</td>\n      <td>10.55</td>\n      <td>6.30</td>\n      <td>4.25</td>\n      <td>3.94</td>\n      <td>6.32</td>\n      <td>1233.05</td>\n      <td>7.15</td>\n      <td>10.09</td>\n      <td>217.40</td>\n    </tr>\n    <tr>\n      <th>304363</th>\n      <td>14.10.2014 01:20:00</td>\n      <td>982.32</td>\n      <td>12.98</td>\n      <td>287.60</td>\n      <td>12.14</td>\n      <td>94.60</td>\n      <td>14.98</td>\n      <td>14.17</td>\n      <td>0.81</td>\n      <td>9.02</td>\n      <td>14.42</td>\n      <td>1189.40</td>\n      <td>0.68</td>\n      <td>1.16</td>\n      <td>179.30</td>\n    </tr>\n    <tr>\n      <th>266724</th>\n      <td>26.01.2014 06:40:00</td>\n      <td>981.77</td>\n      <td>-7.87</td>\n      <td>266.69</td>\n      <td>-9.07</td>\n      <td>91.00</td>\n      <td>3.37</td>\n      <td>3.07</td>\n      <td>0.30</td>\n      <td>1.95</td>\n      <td>3.13</td>\n      <td>1287.67</td>\n      <td>4.05</td>\n      <td>5.21</td>\n      <td>8.97</td>\n    </tr>\n  </tbody>\n</table>\n</div>"
     },
     "execution_count": 6,
     "metadata": {},
     "output_type": "execute_result"
    }
   ],
   "source": [
    "# Generating the DataFrame:\n",
    "df = pd.read_csv(csv_path)\n",
    "df.sample(5)"
   ],
   "metadata": {
    "collapsed": false,
    "ExecuteTime": {
     "end_time": "2023-09-20T00:54:03.092616500Z",
     "start_time": "2023-09-20T00:54:02.404136200Z"
    }
   },
   "id": "c1bb6dd567116944"
  },
  {
   "cell_type": "markdown",
   "source": [
    "### Data Preprocessing"
   ],
   "metadata": {
    "collapsed": false
   },
   "id": "4a5ffb7a433ad3b8"
  },
  {
   "cell_type": "code",
   "execution_count": 7,
   "outputs": [],
   "source": [
    "def preprocessing(df: pd.DataFrame) -> pd.DataFrame:\n",
    "    \"\"\"\n",
    "    Preprocess the data\n",
    "    :param df: DataFrame. The data to be preprocessed\n",
    "    :return: DataFrame. The preprocessed data\n",
    "    \"\"\"\n",
    "    # Getting rid of the outliers\n",
    "    df.loc[df[\"wv (m/s)\"] == -9999.0, \"wv (m/s)\"] = 0.0\n",
    "    df.loc[df[\"max. wv (m/s)\"] == -9999.0, \"max. wv (m/s)\"] = 0.0\n",
    "\n",
    "    # Taking values every hour. REMEMBER THAT DATA WAS COLLECTED EVERY 10 MINUTES\n",
    "    df = df[::6]  # df[start: stop: step]\n",
    "    wv = df.pop(\"wv (m/s)\")\n",
    "    max_wv = df.pop(\"max. wv (m/s)\")\n",
    "\n",
    "    # Convert degrees to radians. This is done to avoid the model to learn that 0 and 360 are different values\n",
    "    wd_rad = (df.pop(\"wd (deg)\") % 360) * np.pi / 180  # Wind direction in radians\n",
    "\n",
    "    # Calculate the wind x and y components\n",
    "    df[\"Wx\"] = wv * np.cos(wd_rad)\n",
    "    df[\"Wy\"] = wv * np.sin(wd_rad)\n",
    "\n",
    "    # Calculate the max wind x and y components\n",
    "    df[\"max Wx\"] = max_wv * np.cos(wd_rad)\n",
    "    df[\"max Wy\"] = max_wv * np.sin(wd_rad)\n",
    "\n",
    "    date_time = pd.to_datetime(df.pop(\"Date Time\"), format=\"%d.%m.%Y %H:%M:%S\")\n",
    "    # Calculating the timestamp (seconds that have elapsed since the POSIX epoch)\n",
    "    timestamps = date_time.map(\n",
    "        dt.datetime.timestamp)  # Returns the time in seconds since the epochs as a float for each element in the series\n",
    "    # Number of seconds in a day\n",
    "    day_in_seconds = 24 * 60 * 60\n",
    "    # Number of seconds in a year\n",
    "    year_in_seconds = 365 * day_in_seconds\n",
    "    # Capturing the cyclicality of the time\n",
    "    df[\"Day sin\"] = np.sin(timestamps * (2 * np.pi / day_in_seconds))\n",
    "    df[\"Day cos\"] = np.cos(timestamps * (2 * np.pi / day_in_seconds))\n",
    "    df[\"Year sin\"] = np.sin(timestamps * (2 * np.pi / year_in_seconds))\n",
    "    df[\"Year cos\"] = np.cos(timestamps * (2 * np.pi / year_in_seconds))\n",
    "    return df"
   ],
   "metadata": {
    "collapsed": false,
    "ExecuteTime": {
     "end_time": "2023-09-20T00:54:03.123855700Z",
     "start_time": "2023-09-20T00:54:03.092616500Z"
    }
   },
   "id": "7fecc0ca9c0d203d"
  },
  {
   "cell_type": "code",
   "execution_count": 8,
   "outputs": [],
   "source": [
    "# Splitting the data into train, validation and test sets\n",
    "from typing import Tuple\n",
    "\n",
    "\n",
    "def split_data(df: pd.DataFrame, train_fraction: float = 0.7, val_fraction: float = 0.20) -> Tuple[\n",
    "    pd.DataFrame, pd.DataFrame, pd.DataFrame]:\n",
    "    \"\"\"\n",
    "    Splitting the data into train, validation and test sets\n",
    "    :param df: pd.DataFrame. The data to be split\n",
    "    :param train_fraction: float. The fraction of the data to be used for training\n",
    "    :param val_fraction: float. The fraction of the data to be used for validation\n",
    "    :return: Tuple[pd.DataFrame, pd.DataFrame, pd.DataFrame]. The split data\n",
    "    \"\"\"\n",
    "    rows = df.shape[0]\n",
    "    last_train_row = int(rows * train_fraction)\n",
    "    last_val_row = int(rows * (train_fraction + val_fraction))\n",
    "\n",
    "    train_df = df[0: last_train_row]\n",
    "    val_df = df[last_train_row: last_val_row]\n",
    "    test_df = df[last_val_row:]\n",
    "\n",
    "    return train_df, val_df, test_df"
   ],
   "metadata": {
    "collapsed": false,
    "ExecuteTime": {
     "end_time": "2023-09-20T00:54:03.186789200Z",
     "start_time": "2023-09-20T00:54:03.108239Z"
    }
   },
   "id": "5f5d6de5f1295544"
  },
  {
   "cell_type": "code",
   "execution_count": 9,
   "outputs": [],
   "source": [
    "# Standardize a DataFrame using StandardScaler\n",
    "from sklearn.preprocessing import StandardScaler\n",
    "\n",
    "\n",
    "def standardize(df: pd.DataFrame) -> Tuple[pd.DataFrame, StandardScaler]:\n",
    "    \"\"\"\n",
    "    Standardize a DataFrame using StandardScaler\n",
    "    :param df: pd.DataFrame. The data to be standardized\n",
    "    :return: Tuple[pd.DataFrame, StandardScaler]. The standardized data and the scaler used\n",
    "    \"\"\"\n",
    "    scaler = StandardScaler().fit(df)\n",
    "    df_standardized = pd.DataFrame(scaler.transform(df), index=df.index, columns=df.columns)\n",
    "    return df_standardized, scaler"
   ],
   "metadata": {
    "collapsed": false,
    "ExecuteTime": {
     "end_time": "2023-09-20T00:54:04.328746800Z",
     "start_time": "2023-09-20T00:54:03.139477100Z"
    }
   },
   "id": "adb7fe1b163df959"
  },
  {
   "cell_type": "code",
   "execution_count": 10,
   "outputs": [
    {
     "name": "stderr",
     "output_type": "stream",
     "text": [
      "C:\\Users\\valve\\AppData\\Local\\Temp\\ipykernel_17060\\3851980650.py:20: SettingWithCopyWarning: \n",
      "A value is trying to be set on a copy of a slice from a DataFrame.\n",
      "Try using .loc[row_indexer,col_indexer] = value instead\n",
      "\n",
      "See the caveats in the documentation: https://pandas.pydata.org/pandas-docs/stable/user_guide/indexing.html#returning-a-view-versus-a-copy\n",
      "  df[\"Wx\"] = wv * np.cos(wd_rad)\n",
      "C:\\Users\\valve\\AppData\\Local\\Temp\\ipykernel_17060\\3851980650.py:21: SettingWithCopyWarning: \n",
      "A value is trying to be set on a copy of a slice from a DataFrame.\n",
      "Try using .loc[row_indexer,col_indexer] = value instead\n",
      "\n",
      "See the caveats in the documentation: https://pandas.pydata.org/pandas-docs/stable/user_guide/indexing.html#returning-a-view-versus-a-copy\n",
      "  df[\"Wy\"] = wv * np.sin(wd_rad)\n",
      "C:\\Users\\valve\\AppData\\Local\\Temp\\ipykernel_17060\\3851980650.py:24: SettingWithCopyWarning: \n",
      "A value is trying to be set on a copy of a slice from a DataFrame.\n",
      "Try using .loc[row_indexer,col_indexer] = value instead\n",
      "\n",
      "See the caveats in the documentation: https://pandas.pydata.org/pandas-docs/stable/user_guide/indexing.html#returning-a-view-versus-a-copy\n",
      "  df[\"max Wx\"] = max_wv * np.cos(wd_rad)\n",
      "C:\\Users\\valve\\AppData\\Local\\Temp\\ipykernel_17060\\3851980650.py:25: SettingWithCopyWarning: \n",
      "A value is trying to be set on a copy of a slice from a DataFrame.\n",
      "Try using .loc[row_indexer,col_indexer] = value instead\n",
      "\n",
      "See the caveats in the documentation: https://pandas.pydata.org/pandas-docs/stable/user_guide/indexing.html#returning-a-view-versus-a-copy\n",
      "  df[\"max Wy\"] = max_wv * np.sin(wd_rad)\n",
      "C:\\Users\\valve\\AppData\\Local\\Temp\\ipykernel_17060\\3851980650.py:36: SettingWithCopyWarning: \n",
      "A value is trying to be set on a copy of a slice from a DataFrame.\n",
      "Try using .loc[row_indexer,col_indexer] = value instead\n",
      "\n",
      "See the caveats in the documentation: https://pandas.pydata.org/pandas-docs/stable/user_guide/indexing.html#returning-a-view-versus-a-copy\n",
      "  df[\"Day sin\"] = np.sin(timestamps * (2 * np.pi / day_in_seconds))\n",
      "C:\\Users\\valve\\AppData\\Local\\Temp\\ipykernel_17060\\3851980650.py:37: SettingWithCopyWarning: \n",
      "A value is trying to be set on a copy of a slice from a DataFrame.\n",
      "Try using .loc[row_indexer,col_indexer] = value instead\n",
      "\n",
      "See the caveats in the documentation: https://pandas.pydata.org/pandas-docs/stable/user_guide/indexing.html#returning-a-view-versus-a-copy\n",
      "  df[\"Day cos\"] = np.cos(timestamps * (2 * np.pi / day_in_seconds))\n",
      "C:\\Users\\valve\\AppData\\Local\\Temp\\ipykernel_17060\\3851980650.py:38: SettingWithCopyWarning: \n",
      "A value is trying to be set on a copy of a slice from a DataFrame.\n",
      "Try using .loc[row_indexer,col_indexer] = value instead\n",
      "\n",
      "See the caveats in the documentation: https://pandas.pydata.org/pandas-docs/stable/user_guide/indexing.html#returning-a-view-versus-a-copy\n",
      "  df[\"Year sin\"] = np.sin(timestamps * (2 * np.pi / year_in_seconds))\n",
      "C:\\Users\\valve\\AppData\\Local\\Temp\\ipykernel_17060\\3851980650.py:39: SettingWithCopyWarning: \n",
      "A value is trying to be set on a copy of a slice from a DataFrame.\n",
      "Try using .loc[row_indexer,col_indexer] = value instead\n",
      "\n",
      "See the caveats in the documentation: https://pandas.pydata.org/pandas-docs/stable/user_guide/indexing.html#returning-a-view-versus-a-copy\n",
      "  df[\"Year cos\"] = np.cos(timestamps * (2 * np.pi / year_in_seconds))\n"
     ]
    }
   ],
   "source": [
    "# Getting the preprocessed data\n",
    "df_preprocessed = preprocessing(df)\n",
    "\n",
    "# Splitting the data\n",
    "train_df, val_df, test_df = split_data(df_preprocessed)\n",
    "\n",
    "# Standardizing the data:\n",
    "train_df_standardized, train_scaler = standardize(train_df)\n",
    "val_df_standardized, val_scaler = standardize(val_df)\n",
    "test_df_standardized, test_scaler = standardize(test_df)"
   ],
   "metadata": {
    "collapsed": false,
    "ExecuteTime": {
     "end_time": "2023-09-20T00:54:04.922883200Z",
     "start_time": "2023-09-20T00:54:04.328746800Z"
    }
   },
   "id": "b60bf581c0d1faa1"
  },
  {
   "cell_type": "code",
   "execution_count": 11,
   "outputs": [
    {
     "data": {
      "text/plain": "       p (mbar)  T (degC)  Tpot (K)  Tdew (degC)    rh (%)  VPmax (mbar)  \\\n64128  0.988749 -0.424966 -0.499131    -0.014065  1.075022     -0.566002   \n\n       VPact (mbar)  VPdef (mbar)  sh (g/kg)  H2OC (mmol/mol)  rho (g/m**3)  \\\n64128     -0.220062     -0.711794  -0.236947        -0.236012      0.623188   \n\n             Wx        Wy    max Wx    max Wy   Day sin   Day cos  Year sin  \\\n64128 -0.192615  0.840577 -0.176227  0.811408 -0.860813 -1.122097  1.354444   \n\n       Year cos  \n64128  0.051252  ",
      "text/html": "<div>\n<style scoped>\n    .dataframe tbody tr th:only-of-type {\n        vertical-align: middle;\n    }\n\n    .dataframe tbody tr th {\n        vertical-align: top;\n    }\n\n    .dataframe thead th {\n        text-align: right;\n    }\n</style>\n<table border=\"1\" class=\"dataframe\">\n  <thead>\n    <tr style=\"text-align: right;\">\n      <th></th>\n      <th>p (mbar)</th>\n      <th>T (degC)</th>\n      <th>Tpot (K)</th>\n      <th>Tdew (degC)</th>\n      <th>rh (%)</th>\n      <th>VPmax (mbar)</th>\n      <th>VPact (mbar)</th>\n      <th>VPdef (mbar)</th>\n      <th>sh (g/kg)</th>\n      <th>H2OC (mmol/mol)</th>\n      <th>rho (g/m**3)</th>\n      <th>Wx</th>\n      <th>Wy</th>\n      <th>max Wx</th>\n      <th>max Wy</th>\n      <th>Day sin</th>\n      <th>Day cos</th>\n      <th>Year sin</th>\n      <th>Year cos</th>\n    </tr>\n  </thead>\n  <tbody>\n    <tr>\n      <th>64128</th>\n      <td>0.988749</td>\n      <td>-0.424966</td>\n      <td>-0.499131</td>\n      <td>-0.014065</td>\n      <td>1.075022</td>\n      <td>-0.566002</td>\n      <td>-0.220062</td>\n      <td>-0.711794</td>\n      <td>-0.236947</td>\n      <td>-0.236012</td>\n      <td>0.623188</td>\n      <td>-0.192615</td>\n      <td>0.840577</td>\n      <td>-0.176227</td>\n      <td>0.811408</td>\n      <td>-0.860813</td>\n      <td>-1.122097</td>\n      <td>1.354444</td>\n      <td>0.051252</td>\n    </tr>\n  </tbody>\n</table>\n</div>"
     },
     "execution_count": 11,
     "metadata": {},
     "output_type": "execute_result"
    }
   ],
   "source": [
    "train_df_standardized.sample()"
   ],
   "metadata": {
    "collapsed": false,
    "ExecuteTime": {
     "end_time": "2023-09-20T00:54:04.985370300Z",
     "start_time": "2023-09-20T00:54:04.922883200Z"
    }
   },
   "id": "d0582770034aa7ee"
  },
  {
   "cell_type": "markdown",
   "source": [
    "## Forecasting temperature\n",
    "Finding the temperature of the next hour given the previous 48 hours of data"
   ],
   "metadata": {
    "collapsed": false
   },
   "id": "d23daaa891f7562e"
  },
  {
   "cell_type": "code",
   "execution_count": 12,
   "outputs": [],
   "source": [
    "n_steps = 48  # Remember that the data is organized in hours. Looking at all the features from the last 2 days\n",
    "n_horizon = 24  # Trying to predict the temperature of the  next day same hour\n",
    "window_length = n_steps + n_horizon\n",
    "batch_size = 32"
   ],
   "metadata": {
    "collapsed": false,
    "ExecuteTime": {
     "end_time": "2023-09-20T00:54:04.985370300Z",
     "start_time": "2023-09-20T00:54:04.954151300Z"
    }
   },
   "id": "c22452eabec3a118"
  },
  {
   "cell_type": "code",
   "execution_count": 13,
   "outputs": [],
   "source": [
    "# Creating the windowed dataset\n",
    "def create_dataset(X: pd.DataFrame, y: pd.Series, n_steps: int = 48, n_horizon: int = 24) -> Tuple[np.ndarray, np.ndarray]:\n",
    "    \"\"\"\n",
    "    Creating the windowed dataset\n",
    "    :param X: pd.DataFrame. The features\n",
    "    :param y: pd.Series. The labels'\n",
    "    :param n_horizon: int. The number of steps to predict\n",
    "    :param n_steps: int. The number of steps to look back\n",
    "    :return: Tuple[np.ndarray, np.ndarray]. The windowed dataset \n",
    "    \"\"\"\n",
    "    Xs, ys = [], []\n",
    "    for i in range(0, (len(X) - n_steps - n_horizon)):\n",
    "        Xs.append(X.iloc[i: i + n_steps].to_numpy())\n",
    "        ys.append(y.iloc[(i + n_horizon)])\n",
    "    return np.array(Xs), np.array(ys)"
   ],
   "metadata": {
    "collapsed": false,
    "ExecuteTime": {
     "end_time": "2023-09-20T00:54:05.000995400Z",
     "start_time": "2023-09-20T00:54:04.969746Z"
    }
   },
   "id": "45028318267581b4"
  },
  {
   "cell_type": "code",
   "execution_count": 14,
   "outputs": [],
   "source": [
    "#Generating the training data\n",
    "X_train, y_train = create_dataset(X=train_df_standardized,\n",
    "                                  y=train_df_standardized[\"T (degC)\"],\n",
    "                                  n_steps=n_steps,\n",
    "                                  n_horizon=n_horizon)\n",
    "\n",
    "# Generating the validation data\n",
    "X_val, y_val = create_dataset(X=val_df_standardized,\n",
    "                              y=val_df_standardized[\"T (degC)\"],\n",
    "                              n_steps=n_steps,\n",
    "                              n_horizon=n_horizon)"
   ],
   "metadata": {
    "collapsed": false,
    "ExecuteTime": {
     "end_time": "2023-09-20T00:54:07.783177800Z",
     "start_time": "2023-09-20T00:54:05.106343400Z"
    }
   },
   "id": "f035b0f556903adc"
  },
  {
   "cell_type": "code",
   "execution_count": 15,
   "outputs": [
    {
     "name": "stdout",
     "output_type": "stream",
     "text": [
      "X_train shape: (48992, 48, 19)\n",
      "y_train shape: (48992,)\n",
      "X_val shape: (13946, 48, 19)\n",
      "y_val shape: (13946,)\n"
     ]
    }
   ],
   "source": [
    "# Viewing the shape of the data\n",
    "print(f\"X_train shape: {X_train.shape}\")\n",
    "print(f\"y_train shape: {y_train.shape}\")\n",
    "print(f\"X_val shape: {X_val.shape}\")\n",
    "print(f\"y_val shape: {y_val.shape}\")"
   ],
   "metadata": {
    "collapsed": false,
    "ExecuteTime": {
     "end_time": "2023-09-20T00:54:07.798773600Z",
     "start_time": "2023-09-20T00:54:07.783177800Z"
    }
   },
   "id": "2a253ef872489bb6"
  },
  {
   "cell_type": "markdown",
   "source": [
    "### Baseline model\n",
    "The baseline model will just output the last temperature of the previous day at the given hour. This is a standard practice apparently in time series forecasting where I just take the previous information and use it to predict the next value. This is called the **naive evaluation**"
   ],
   "metadata": {
    "collapsed": false
   },
   "id": "95d72e6f5d95f688"
  },
  {
   "cell_type": "code",
   "execution_count": 16,
   "outputs": [],
   "source": [
    "def naive_model_mae(y: np.array, n_steps: int = 48, n_horizon: int = 24):\n",
    "    \"\"\"\n",
    "    Naive model. It just outputs the last temperature of the previous day at the given hour \n",
    "    :param y: np.array. The labels\n",
    "    :param n_steps: Int. The number of steps to look back\n",
    "    :param n_horizon: Int. The number of steps to predict\n",
    "    :return: \n",
    "    \"\"\"\n",
    "    # Generating the naive predictions\n",
    "    abs_errors = []\n",
    "    for i in range(n_steps + n_horizon, len(y)):\n",
    "        prediction = y[i - n_horizon]\n",
    "        actual = y[i]\n",
    "        abs_errors.append(np.abs(prediction - actual))\n",
    "    return np.mean(abs_errors)"
   ],
   "metadata": {
    "collapsed": false,
    "ExecuteTime": {
     "end_time": "2023-09-20T00:54:07.861290700Z",
     "start_time": "2023-09-20T00:54:07.798773600Z"
    }
   },
   "id": "6005104065ea8eb0"
  },
  {
   "cell_type": "code",
   "execution_count": 17,
   "outputs": [],
   "source": [
    "naive_model_mae = naive_model_mae(y=y_val)"
   ],
   "metadata": {
    "collapsed": false,
    "ExecuteTime": {
     "end_time": "2023-09-20T00:54:07.874929300Z",
     "start_time": "2023-09-20T00:54:07.814400600Z"
    }
   },
   "id": "412fa255e8159660"
  },
  {
   "cell_type": "markdown",
   "source": [
    "### Dense model\n",
    "Having just a Flatten layer and a Dense layer"
   ],
   "metadata": {
    "collapsed": false
   },
   "id": "a91e100708afe3"
  },
  {
   "cell_type": "code",
   "execution_count": 18,
   "outputs": [],
   "source": [
    "from keras.models import Sequential\n",
    "from keras.layers import Dense, Flatten"
   ],
   "metadata": {
    "collapsed": false,
    "ExecuteTime": {
     "end_time": "2023-09-20T00:54:07.896765Z",
     "start_time": "2023-09-20T00:54:07.869941300Z"
    }
   },
   "id": "3d48708fe5cf68a7"
  },
  {
   "cell_type": "code",
   "execution_count": 19,
   "outputs": [
    {
     "name": "stdout",
     "output_type": "stream",
     "text": [
      "Epoch 1/30\n",
      "1531/1531 [==============================] - 4s 2ms/step - loss: 0.1915 - mae: 0.1915 - val_loss: 0.0742 - val_mae: 0.0742\n",
      "Epoch 2/30\n",
      "1531/1531 [==============================] - 3s 2ms/step - loss: 0.0577 - mae: 0.0577 - val_loss: 0.0439 - val_mae: 0.0439\n",
      "Epoch 3/30\n",
      "1531/1531 [==============================] - 3s 2ms/step - loss: 0.0373 - mae: 0.0373 - val_loss: 0.0412 - val_mae: 0.0412\n",
      "Epoch 4/30\n",
      "1531/1531 [==============================] - 3s 2ms/step - loss: 0.0335 - mae: 0.0335 - val_loss: 0.0457 - val_mae: 0.0457\n",
      "Epoch 5/30\n",
      "1531/1531 [==============================] - 3s 2ms/step - loss: 0.0294 - mae: 0.0294 - val_loss: 0.0329 - val_mae: 0.0329\n",
      "Epoch 6/30\n",
      "1531/1531 [==============================] - 4s 2ms/step - loss: 0.0263 - mae: 0.0263 - val_loss: 0.0410 - val_mae: 0.0410\n",
      "Epoch 7/30\n",
      "1531/1531 [==============================] - 3s 2ms/step - loss: 0.0243 - mae: 0.0243 - val_loss: 0.0287 - val_mae: 0.0287\n",
      "Epoch 8/30\n",
      "1531/1531 [==============================] - 3s 2ms/step - loss: 0.0222 - mae: 0.0222 - val_loss: 0.0387 - val_mae: 0.0387\n",
      "Epoch 9/30\n",
      "1531/1531 [==============================] - 3s 2ms/step - loss: 0.0213 - mae: 0.0213 - val_loss: 0.0223 - val_mae: 0.0223\n",
      "Epoch 10/30\n",
      "1531/1531 [==============================] - 3s 2ms/step - loss: 0.0203 - mae: 0.0203 - val_loss: 0.0283 - val_mae: 0.0283\n",
      "Epoch 11/30\n",
      "1531/1531 [==============================] - 3s 2ms/step - loss: 0.0195 - mae: 0.0195 - val_loss: 0.0292 - val_mae: 0.0292\n",
      "Epoch 12/30\n",
      "1531/1531 [==============================] - 3s 2ms/step - loss: 0.0182 - mae: 0.0182 - val_loss: 0.0205 - val_mae: 0.0205\n",
      "Epoch 13/30\n",
      "1531/1531 [==============================] - 3s 2ms/step - loss: 0.0174 - mae: 0.0174 - val_loss: 0.0198 - val_mae: 0.0198\n",
      "Epoch 14/30\n",
      "1531/1531 [==============================] - 3s 2ms/step - loss: 0.0165 - mae: 0.0165 - val_loss: 0.0184 - val_mae: 0.0184\n",
      "Epoch 15/30\n",
      "1531/1531 [==============================] - 3s 2ms/step - loss: 0.0164 - mae: 0.0164 - val_loss: 0.0204 - val_mae: 0.0204\n",
      "Epoch 16/30\n",
      "1531/1531 [==============================] - 3s 2ms/step - loss: 0.0152 - mae: 0.0152 - val_loss: 0.0236 - val_mae: 0.0236\n",
      "Epoch 17/30\n",
      "1531/1531 [==============================] - 3s 2ms/step - loss: 0.0150 - mae: 0.0150 - val_loss: 0.0241 - val_mae: 0.0241\n",
      "Epoch 18/30\n",
      "1531/1531 [==============================] - 3s 2ms/step - loss: 0.0148 - mae: 0.0148 - val_loss: 0.0197 - val_mae: 0.0197\n",
      "Epoch 19/30\n",
      "1531/1531 [==============================] - 3s 2ms/step - loss: 0.0142 - mae: 0.0142 - val_loss: 0.0169 - val_mae: 0.0169\n",
      "Epoch 20/30\n",
      "1531/1531 [==============================] - 3s 2ms/step - loss: 0.0141 - mae: 0.0141 - val_loss: 0.0180 - val_mae: 0.0180\n",
      "Epoch 21/30\n",
      "1531/1531 [==============================] - 3s 2ms/step - loss: 0.0133 - mae: 0.0133 - val_loss: 0.0205 - val_mae: 0.0205\n",
      "Epoch 22/30\n",
      "1531/1531 [==============================] - 3s 2ms/step - loss: 0.0133 - mae: 0.0133 - val_loss: 0.0199 - val_mae: 0.0199\n",
      "Epoch 23/30\n",
      "1531/1531 [==============================] - 3s 2ms/step - loss: 0.0130 - mae: 0.0130 - val_loss: 0.0259 - val_mae: 0.0259\n",
      "Epoch 24/30\n",
      "1531/1531 [==============================] - 3s 2ms/step - loss: 0.0127 - mae: 0.0127 - val_loss: 0.0217 - val_mae: 0.0217\n",
      "Epoch 25/30\n",
      "1531/1531 [==============================] - 3s 2ms/step - loss: 0.0127 - mae: 0.0127 - val_loss: 0.0196 - val_mae: 0.0196\n",
      "Epoch 26/30\n",
      "1531/1531 [==============================] - 3s 2ms/step - loss: 0.0128 - mae: 0.0128 - val_loss: 0.0278 - val_mae: 0.0278\n",
      "Epoch 27/30\n",
      "1531/1531 [==============================] - 3s 2ms/step - loss: 0.0120 - mae: 0.0120 - val_loss: 0.0204 - val_mae: 0.0204\n",
      "Epoch 28/30\n",
      "1531/1531 [==============================] - 3s 2ms/step - loss: 0.0120 - mae: 0.0120 - val_loss: 0.0195 - val_mae: 0.0195\n",
      "Epoch 29/30\n",
      "1531/1531 [==============================] - 3s 2ms/step - loss: 0.0117 - mae: 0.0117 - val_loss: 0.0200 - val_mae: 0.0200\n",
      "Epoch 30/30\n",
      "1531/1531 [==============================] - 3s 2ms/step - loss: 0.0114 - mae: 0.0114 - val_loss: 0.0161 - val_mae: 0.0161\n"
     ]
    }
   ],
   "source": [
    "dense_model = Sequential([\n",
    "    Flatten(input_shape=(n_steps, X_train.shape[2])),\n",
    "    Dense(32, activation=\"relu\"),\n",
    "    Dense(1)  # Because I need only one output\n",
    "])\n",
    "\n",
    "# Compiling the model where I define the loss function and the optimizer\n",
    "dense_model.compile(optimizer=\"Adam\", loss=\"mae\", metrics=[\"mae\"])\n",
    "dense_history = dense_model.fit(X_train, y_train, epochs=30, validation_data=(X_val, y_val), batch_size=32)  # Where the batch size indicates the number of samples it will process before updating the model's weights and biases"
   ],
   "metadata": {
    "collapsed": false,
    "ExecuteTime": {
     "end_time": "2023-09-20T00:55:42.649230100Z",
     "start_time": "2023-09-20T00:54:07.881142300Z"
    }
   },
   "id": "d6ec27c94cf19e9a"
  },
  {
   "cell_type": "code",
   "execution_count": 20,
   "outputs": [],
   "source": [
    "# Defining a function to plot the loss and the metrics\n",
    "\n",
    "from keras.callbacks import History\n",
    "import matplotlib.pyplot as plt\n",
    "\n",
    "\n",
    "def plot(history: History, naive_loss: int) -> None:\n",
    "    \"\"\"\n",
    "    Plotting the loss and the metrics\n",
    "    :param history: History. The history of the model\n",
    "    :param naive_loss: Int. Baseline loss\n",
    "    :return: None\n",
    "    \"\"\"\n",
    "    loss = history.history[\"loss\"]\n",
    "    val_loss = history.history[\"val_loss\"]\n",
    "    epochs = range(len(loss))  # Getting the number of epochs the model was trained on\n",
    "    plt.figure()  # Creating a new figure\n",
    "    plt.plot(epochs, loss, \"b\", label=\"Training Loss\")\n",
    "    plt.plot(epochs, val_loss, \"g\", label=\"Validation Loss\")\n",
    "    plt.title(\"Training and Validation Loss\")\n",
    "    plt.axhline(y=naive_loss, color=\"r\")\n",
    "    plt.legend()\n",
    "    plt.show()\n",
    "    return None"
   ],
   "metadata": {
    "collapsed": false,
    "ExecuteTime": {
     "end_time": "2023-09-20T00:55:43.040580900Z",
     "start_time": "2023-09-20T00:55:42.649230100Z"
    }
   },
   "id": "15a7192f3a21676b"
  },
  {
   "cell_type": "code",
   "execution_count": 21,
   "outputs": [
    {
     "data": {
      "text/plain": "<Figure size 800x600 with 1 Axes>",
      "image/png": "[encoded data removed]"
     },
     "metadata": {},
     "output_type": "display_data"
    }
   ],
   "source": [
    "plot(history=dense_history, naive_loss=naive_model_mae)"
   ],
   "metadata": {
    "collapsed": false,
    "ExecuteTime": {
     "end_time": "2023-09-20T00:55:43.321762900Z",
     "start_time": "2023-09-20T00:55:43.040580900Z"
    }
   },
   "id": "a3b9fa2dfdd67fe0"
  },
  {
   "cell_type": "markdown",
   "source": [
    "*Note*: It is extremely interesting to notice that the model is much better than the model used by the original author. My intuition is perhaps in differences in the windowing of the data and / or the preprocessing of the time cycle using the sine and cosine functions which are a bit different. Other than that, further analysis needs to be done "
   ],
   "metadata": {
    "collapsed": false
   },
   "id": "e4f2e71f4b824d2d"
  },
  {
   "cell_type": "markdown",
   "source": [
    "### Iterator\n",
    "I am going to generate an iterator right from the training DataFrame, where before I build the data generating the windows manually where the size was (48, 19).\n",
    "In this scenario, I am going to play a bit with `tf.data.Dataset.from_tensor_slices`  and ` tf.data.Dataset.window` to generate the windows"
   ],
   "metadata": {
    "collapsed": false
   },
   "id": "625626f47b3281b3"
  },
  {
   "cell_type": "code",
   "execution_count": 22,
   "outputs": [
    {
     "data": {
      "text/plain": "        p (mbar)  T (degC)  Tpot (K)  Tdew (degC)    rh (%)  VPmax (mbar)  \\\n0       0.947770 -1.978961 -2.039545    -1.935844  1.050866     -1.302887   \n6       0.945360 -1.932745 -1.992554    -1.849794  1.141453     -1.288591   \n12      0.961028 -2.074858 -2.134675    -2.050577  1.062944     -1.330179   \n18      0.989954 -2.073702 -2.135821    -2.049142  1.062944     -1.328879   \n24      1.011648 -2.118763 -2.182813    -2.129456  0.984435     -1.341875   \n...          ...       ...       ...          ...       ...           ...   \n294354  0.181232  0.909506  0.889993     1.560646  0.905926      0.783004   \n294360  0.271626  0.841338  0.815493     1.433006  0.797221      0.690731   \n294366  0.187259  0.729266  0.710048     1.414361  1.093140      0.545173   \n294372  0.200516  0.715401  0.695149     1.427269  1.171649      0.526978   \n294378  0.170385  0.655321  0.637842     1.355561  1.177688      0.452900   \n\n        VPact (mbar)  VPdef (mbar)  sh (g/kg)  H2OC (mmol/mol)  rho (g/m**3)  \\\n0          -1.484080     -0.784450  -1.487116        -1.489345      2.215771   \n6          -1.448440     -0.792753  -1.449686        -1.454139      2.165232   \n12         -1.529223     -0.788601  -1.532032        -1.533939      2.322219   \n18         -1.529223     -0.788601  -1.528289        -1.533939      2.328567   \n24         -1.560111     -0.780298  -1.561976        -1.564451      2.383501   \n...              ...           ...        ...              ...           ...   \n294354      1.963457     -0.464764   1.956464         1.953799     -0.882477   \n294360      1.728236     -0.408715   1.720653         1.719092     -0.790677   \n294366      1.694972     -0.612152   1.690709         1.688580     -0.712550   \n294372      1.718732     -0.659897   1.713167         1.712051     -0.698389   \n294378      1.592806     -0.670276   1.585905         1.585310     -0.647362   \n\n              Wx        Wy    max Wx    max Wy   Day sin   Day cos  Year sin  \\\n0      -0.159551  0.560321 -0.190746  0.584291  1.412882 -0.061770  0.180520   \n6       0.207054  0.280085  0.109480  0.329520  1.348777 -0.425360  0.181526   \n12      0.220170  0.291082  0.156918  0.343973  1.192759 -0.759967  0.182531   \n18      0.272069  0.287880  0.255051  0.347255  0.955462 -1.042790  0.183537   \n24      0.248644  0.227130  0.194460  0.214437  0.653056 -1.254554  0.184542   \n...          ...       ...       ...       ...       ...       ...       ...   \n294354 -0.355845 -1.536429 -0.216219 -1.056133  1.083378  0.908995 -1.059431   \n294360 -0.319853 -0.813127 -0.542552 -1.089441  1.281733  0.597616 -1.060165   \n294366 -0.104067  0.764897 -0.093722  0.748247  1.392744  0.245505 -1.060899   \n294372  0.620469 -0.444602  0.653410 -0.414155  1.408847 -0.123342 -1.061632   \n294378  0.126561 -0.412004  0.028513 -0.744772  1.328944 -0.483790 -1.062365   \n\n        Year cos  \n0       1.422373  \n6       1.422195  \n12      1.422016  \n18      1.421837  \n24      1.421657  \n...          ...  \n294354 -0.977262  \n294360 -0.976559  \n294366 -0.975856  \n294372 -0.975153  \n294378 -0.974449  \n\n[49064 rows x 19 columns]",
      "text/html": "<div>\n<style scoped>\n    .dataframe tbody tr th:only-of-type {\n        vertical-align: middle;\n    }\n\n    .dataframe tbody tr th {\n        vertical-align: top;\n    }\n\n    .dataframe thead th {\n        text-align: right;\n    }\n</style>\n<table border=\"1\" class=\"dataframe\">\n  <thead>\n    <tr style=\"text-align: right;\">\n      <th></th>\n      <th>p (mbar)</th>\n      <th>T (degC)</th>\n      <th>Tpot (K)</th>\n      <th>Tdew (degC)</th>\n      <th>rh (%)</th>\n      <th>VPmax (mbar)</th>\n      <th>VPact (mbar)</th>\n      <th>VPdef (mbar)</th>\n      <th>sh (g/kg)</th>\n      <th>H2OC (mmol/mol)</th>\n      <th>rho (g/m**3)</th>\n      <th>Wx</th>\n      <th>Wy</th>\n      <th>max Wx</th>\n      <th>max Wy</th>\n      <th>Day sin</th>\n      <th>Day cos</th>\n      <th>Year sin</th>\n      <th>Year cos</th>\n    </tr>\n  </thead>\n  <tbody>\n    <tr>\n      <th>0</th>\n      <td>0.947770</td>\n      <td>-1.978961</td>\n      <td>-2.039545</td>\n      <td>-1.935844</td>\n      <td>1.050866</td>\n      <td>-1.302887</td>\n      <td>-1.484080</td>\n      <td>-0.784450</td>\n      <td>-1.487116</td>\n      <td>-1.489345</td>\n      <td>2.215771</td>\n      <td>-0.159551</td>\n      <td>0.560321</td>\n      <td>-0.190746</td>\n      <td>0.584291</td>\n      <td>1.412882</td>\n      <td>-0.061770</td>\n      <td>0.180520</td>\n      <td>1.422373</td>\n    </tr>\n    <tr>\n      <th>6</th>\n      <td>0.945360</td>\n      <td>-1.932745</td>\n      <td>-1.992554</td>\n      <td>-1.849794</td>\n      <td>1.141453</td>\n      <td>-1.288591</td>\n      <td>-1.448440</td>\n      <td>-0.792753</td>\n      <td>-1.449686</td>\n      <td>-1.454139</td>\n      <td>2.165232</td>\n      <td>0.207054</td>\n      <td>0.280085</td>\n      <td>0.109480</td>\n      <td>0.329520</td>\n      <td>1.348777</td>\n      <td>-0.425360</td>\n      <td>0.181526</td>\n      <td>1.422195</td>\n    </tr>\n    <tr>\n      <th>12</th>\n      <td>0.961028</td>\n      <td>-2.074858</td>\n      <td>-2.134675</td>\n      <td>-2.050577</td>\n      <td>1.062944</td>\n      <td>-1.330179</td>\n      <td>-1.529223</td>\n      <td>-0.788601</td>\n      <td>-1.532032</td>\n      <td>-1.533939</td>\n      <td>2.322219</td>\n      <td>0.220170</td>\n      <td>0.291082</td>\n      <td>0.156918</td>\n      <td>0.343973</td>\n      <td>1.192759</td>\n      <td>-0.759967</td>\n      <td>0.182531</td>\n      <td>1.422016</td>\n    </tr>\n    <tr>\n      <th>18</th>\n      <td>0.989954</td>\n      <td>-2.073702</td>\n      <td>-2.135821</td>\n      <td>-2.049142</td>\n      <td>1.062944</td>\n      <td>-1.328879</td>\n      <td>-1.529223</td>\n      <td>-0.788601</td>\n      <td>-1.528289</td>\n      <td>-1.533939</td>\n      <td>2.328567</td>\n      <td>0.272069</td>\n      <td>0.287880</td>\n      <td>0.255051</td>\n      <td>0.347255</td>\n      <td>0.955462</td>\n      <td>-1.042790</td>\n      <td>0.183537</td>\n      <td>1.421837</td>\n    </tr>\n    <tr>\n      <th>24</th>\n      <td>1.011648</td>\n      <td>-2.118763</td>\n      <td>-2.182813</td>\n      <td>-2.129456</td>\n      <td>0.984435</td>\n      <td>-1.341875</td>\n      <td>-1.560111</td>\n      <td>-0.780298</td>\n      <td>-1.561976</td>\n      <td>-1.564451</td>\n      <td>2.383501</td>\n      <td>0.248644</td>\n      <td>0.227130</td>\n      <td>0.194460</td>\n      <td>0.214437</td>\n      <td>0.653056</td>\n      <td>-1.254554</td>\n      <td>0.184542</td>\n      <td>1.421657</td>\n    </tr>\n    <tr>\n      <th>...</th>\n      <td>...</td>\n      <td>...</td>\n      <td>...</td>\n      <td>...</td>\n      <td>...</td>\n      <td>...</td>\n      <td>...</td>\n      <td>...</td>\n      <td>...</td>\n      <td>...</td>\n      <td>...</td>\n      <td>...</td>\n      <td>...</td>\n      <td>...</td>\n      <td>...</td>\n      <td>...</td>\n      <td>...</td>\n      <td>...</td>\n      <td>...</td>\n    </tr>\n    <tr>\n      <th>294354</th>\n      <td>0.181232</td>\n      <td>0.909506</td>\n      <td>0.889993</td>\n      <td>1.560646</td>\n      <td>0.905926</td>\n      <td>0.783004</td>\n      <td>1.963457</td>\n      <td>-0.464764</td>\n      <td>1.956464</td>\n      <td>1.953799</td>\n      <td>-0.882477</td>\n      <td>-0.355845</td>\n      <td>-1.536429</td>\n      <td>-0.216219</td>\n      <td>-1.056133</td>\n      <td>1.083378</td>\n      <td>0.908995</td>\n      <td>-1.059431</td>\n      <td>-0.977262</td>\n    </tr>\n    <tr>\n      <th>294360</th>\n      <td>0.271626</td>\n      <td>0.841338</td>\n      <td>0.815493</td>\n      <td>1.433006</td>\n      <td>0.797221</td>\n      <td>0.690731</td>\n      <td>1.728236</td>\n      <td>-0.408715</td>\n      <td>1.720653</td>\n      <td>1.719092</td>\n      <td>-0.790677</td>\n      <td>-0.319853</td>\n      <td>-0.813127</td>\n      <td>-0.542552</td>\n      <td>-1.089441</td>\n      <td>1.281733</td>\n      <td>0.597616</td>\n      <td>-1.060165</td>\n      <td>-0.976559</td>\n    </tr>\n    <tr>\n      <th>294366</th>\n      <td>0.187259</td>\n      <td>0.729266</td>\n      <td>0.710048</td>\n      <td>1.414361</td>\n      <td>1.093140</td>\n      <td>0.545173</td>\n      <td>1.694972</td>\n      <td>-0.612152</td>\n      <td>1.690709</td>\n      <td>1.688580</td>\n      <td>-0.712550</td>\n      <td>-0.104067</td>\n      <td>0.764897</td>\n      <td>-0.093722</td>\n      <td>0.748247</td>\n      <td>1.392744</td>\n      <td>0.245505</td>\n      <td>-1.060899</td>\n      <td>-0.975856</td>\n    </tr>\n    <tr>\n      <th>294372</th>\n      <td>0.200516</td>\n      <td>0.715401</td>\n      <td>0.695149</td>\n      <td>1.427269</td>\n      <td>1.171649</td>\n      <td>0.526978</td>\n      <td>1.718732</td>\n      <td>-0.659897</td>\n      <td>1.713167</td>\n      <td>1.712051</td>\n      <td>-0.698389</td>\n      <td>0.620469</td>\n      <td>-0.444602</td>\n      <td>0.653410</td>\n      <td>-0.414155</td>\n      <td>1.408847</td>\n      <td>-0.123342</td>\n      <td>-1.061632</td>\n      <td>-0.975153</td>\n    </tr>\n    <tr>\n      <th>294378</th>\n      <td>0.170385</td>\n      <td>0.655321</td>\n      <td>0.637842</td>\n      <td>1.355561</td>\n      <td>1.177688</td>\n      <td>0.452900</td>\n      <td>1.592806</td>\n      <td>-0.670276</td>\n      <td>1.585905</td>\n      <td>1.585310</td>\n      <td>-0.647362</td>\n      <td>0.126561</td>\n      <td>-0.412004</td>\n      <td>0.028513</td>\n      <td>-0.744772</td>\n      <td>1.328944</td>\n      <td>-0.483790</td>\n      <td>-1.062365</td>\n      <td>-0.974449</td>\n    </tr>\n  </tbody>\n</table>\n<p>49064 rows × 19 columns</p>\n</div>"
     },
     "execution_count": 22,
     "metadata": {},
     "output_type": "execute_result"
    }
   ],
   "source": [
    "train_df_standardized"
   ],
   "metadata": {
    "collapsed": false,
    "ExecuteTime": {
     "end_time": "2023-09-20T00:55:43.458817900Z",
     "start_time": "2023-09-20T00:55:43.321762900Z"
    }
   },
   "id": "1991bf76381e56bc"
  },
  {
   "cell_type": "code",
   "execution_count": 23,
   "outputs": [
    {
     "data": {
      "text/plain": "<_TensorSliceDataset element_spec=TensorSpec(shape=(19,), dtype=tf.float64, name=None)>"
     },
     "execution_count": 23,
     "metadata": {},
     "output_type": "execute_result"
    }
   ],
   "source": [
    "# Creating the iterator right from the training DataFrame\n",
    "train_ds = tf.data.Dataset.from_tensor_slices(train_df_standardized)\n",
    "train_ds"
   ],
   "metadata": {
    "collapsed": false,
    "ExecuteTime": {
     "end_time": "2023-09-20T00:55:43.458817900Z",
     "start_time": "2023-09-20T00:55:43.380709Z"
    }
   },
   "id": "a1af323a5262ef05"
  },
  {
   "cell_type": "markdown",
   "source": [
    "Making the data ready to be fed into my model"
   ],
   "metadata": {
    "collapsed": false
   },
   "id": "e2c939d9a16a9a48"
  },
  {
   "cell_type": "code",
   "execution_count": 24,
   "outputs": [
    {
     "data": {
      "text/plain": "<_WindowDataset element_spec=DatasetSpec(TensorSpec(shape=(19,), dtype=tf.float64, name=None), TensorShape([]))>"
     },
     "execution_count": 24,
     "metadata": {},
     "output_type": "execute_result"
    }
   ],
   "source": [
    "# Generating the windows\n",
    "def deep_copy(element):\n",
    "    return element\n",
    "train_ds_copy = train_ds.map(deep_copy)\n",
    "train_ds_copy = train_ds_copy.window(window_length, shift=1, drop_remainder=True)\n",
    "train_ds_copy\n",
    "# train_ds_copy = train_ds_copy.flat_map(lambda window: window.batch(window_length))\n",
    "# train_ds"
   ],
   "metadata": {
    "collapsed": false,
    "ExecuteTime": {
     "end_time": "2023-09-20T00:55:43.583241100Z",
     "start_time": "2023-09-20T00:55:43.427572800Z"
    }
   },
   "id": "ae2ba3b9cc8ebf67"
  },
  {
   "cell_type": "code",
   "execution_count": 25,
   "outputs": [
    {
     "name": "stdout",
     "output_type": "stream",
     "text": [
      "72\n"
     ]
    }
   ],
   "source": [
    "for element in train_ds_copy.take(1):\n",
    "    print(len(element))"
   ],
   "metadata": {
    "collapsed": false,
    "ExecuteTime": {
     "end_time": "2023-09-20T00:55:43.942531100Z",
     "start_time": "2023-09-20T00:55:43.490057100Z"
    }
   },
   "id": "e3a43fff5abeb3ba"
  },
  {
   "cell_type": "code",
   "execution_count": 26,
   "outputs": [
    {
     "name": "stdout",
     "output_type": "stream",
     "text": [
      "(72, 19)\n",
      "72\n"
     ]
    }
   ],
   "source": [
    "train_ds_copy = train_ds_copy.flat_map(lambda window: window.batch(window_length))\n",
    "for element in train_ds_copy.take(1):\n",
    "    print(element.shape)\n",
    "    print(len(element))"
   ],
   "metadata": {
    "collapsed": false,
    "ExecuteTime": {
     "end_time": "2023-09-20T00:55:43.942531100Z",
     "start_time": "2023-09-20T00:55:43.575019700Z"
    }
   },
   "id": "2afd454456fc23ee"
  },
  {
   "cell_type": "markdown",
   "source": [
    "I can see no visible difference when applying the `flat_map` and not applying the `flat_map`"
   ],
   "metadata": {
    "collapsed": false
   },
   "id": "b7137fb01cfc5670"
  },
  {
   "cell_type": "code",
   "execution_count": 27,
   "outputs": [],
   "source": [
    "train_ds = train_ds.window(size=window_length, shift=1, drop_remainder=True)"
   ],
   "metadata": {
    "collapsed": false,
    "ExecuteTime": {
     "end_time": "2023-09-20T00:55:43.942531100Z",
     "start_time": "2023-09-20T00:55:43.645727300Z"
    }
   },
   "id": "788877308eb182d0"
  },
  {
   "cell_type": "code",
   "execution_count": 28,
   "outputs": [],
   "source": [
    "val_ds = tf.data.Dataset.from_tensor_slices(val_df_standardized)"
   ],
   "metadata": {
    "collapsed": false,
    "ExecuteTime": {
     "end_time": "2023-09-20T00:55:43.942531100Z",
     "start_time": "2023-09-20T00:55:43.661349300Z"
    }
   },
   "id": "f8ad382612d4c920"
  },
  {
   "cell_type": "code",
   "execution_count": 29,
   "outputs": [
    {
     "data": {
      "text/plain": "420551"
     },
     "execution_count": 29,
     "metadata": {},
     "output_type": "execute_result"
    }
   ],
   "source": [
    "df.shape[0]"
   ],
   "metadata": {
    "collapsed": false,
    "ExecuteTime": {
     "end_time": "2023-09-20T00:55:43.942531100Z",
     "start_time": "2023-09-20T00:55:43.692592100Z"
    }
   },
   "id": "d91c29dfff19475"
  },
  {
   "cell_type": "code",
   "execution_count": 30,
   "outputs": [
    {
     "data": {
      "text/plain": "(420551, 15)"
     },
     "execution_count": 30,
     "metadata": {},
     "output_type": "execute_result"
    }
   ],
   "source": [
    "df.shape"
   ],
   "metadata": {
    "collapsed": false,
    "ExecuteTime": {
     "end_time": "2023-09-20T00:55:43.958156900Z",
     "start_time": "2023-09-20T00:55:43.708213100Z"
    }
   },
   "id": "b3eaf0927f6eaf0d"
  },
  {
   "cell_type": "code",
   "execution_count": 31,
   "outputs": [],
   "source": [
    "test_ds = tf.data.Dataset.from_tensor_slices(test_df_standardized)"
   ],
   "metadata": {
    "collapsed": false,
    "ExecuteTime": {
     "end_time": "2023-09-20T00:55:43.989297800Z",
     "start_time": "2023-09-20T00:55:43.723833400Z"
    }
   },
   "id": "5f5ae15be8726aab"
  },
  {
   "cell_type": "code",
   "execution_count": 32,
   "outputs": [],
   "source": [
    "# Now I have to make the adequate windows for the train, validation and test sets\n",
    "train_ds = train_ds.flat_map(lambda window: window.batch(window_length))\n",
    "train_ds = train_ds.map(lambda window: (window[:48,:], window[-1,1]))"
   ],
   "metadata": {
    "collapsed": false,
    "ExecuteTime": {
     "end_time": "2023-09-20T00:55:43.989297800Z",
     "start_time": "2023-09-20T00:55:43.833184100Z"
    }
   },
   "id": "5fd30dda5ac298d8"
  },
  {
   "cell_type": "code",
   "execution_count": 33,
   "outputs": [
    {
     "data": {
      "text/plain": "<_MapDataset element_spec=(TensorSpec(shape=(None, 19), dtype=tf.float64, name=None), TensorSpec(shape=(), dtype=tf.float64, name=None))>"
     },
     "execution_count": 33,
     "metadata": {},
     "output_type": "execute_result"
    }
   ],
   "source": [
    "train_ds"
   ],
   "metadata": {
    "collapsed": false,
    "ExecuteTime": {
     "end_time": "2023-09-20T00:55:43.989297800Z",
     "start_time": "2023-09-20T00:55:43.880044800Z"
    }
   },
   "id": "87e5bd53c95e1b9f"
  },
  {
   "cell_type": "code",
   "execution_count": 34,
   "outputs": [],
   "source": [
    "# Now for the validation set:\n",
    "# Windowing the dataset:\n",
    "val_ds = val_ds.window(size=window_length, shift=1, drop_remainder=True)\n",
    "val_ds = val_ds.flat_map(lambda window: window.batch(window_length))\n",
    "val_ds = val_ds.map(lambda window: (window[:48,:], window[-1, 1]))"
   ],
   "metadata": {
    "collapsed": false,
    "ExecuteTime": {
     "end_time": "2023-09-20T00:55:44.207996Z",
     "start_time": "2023-09-20T00:55:43.911292100Z"
    }
   },
   "id": "7b0a9dee41e2e9c2"
  },
  {
   "cell_type": "code",
   "execution_count": 35,
   "outputs": [
    {
     "name": "stdout",
     "output_type": "stream",
     "text": [
      "(<tf.Tensor: shape=(48, 19), dtype=float64, numpy=\n",
      "array([[ 2.56898884e-02,  6.36997474e-01,  6.29227176e-01,\n",
      "         1.39472577e+00,  1.16072906e+00,  3.98354656e-01,\n",
      "         1.49909993e+00, -6.36055575e-01,  1.49241200e+00,\n",
      "         1.49381182e+00, -6.61989918e-01,  1.24875764e-01,\n",
      "         6.55438237e-02,  6.58442084e-02,  3.40033835e-02,\n",
      "         1.15965221e+00, -8.11110810e-01, -8.57307892e-01,\n",
      "        -1.30997256e+00],\n",
      "       [ 5.11738532e-02,  5.71639782e-01,  5.61978316e-01,\n",
      "         1.35993330e+00,  1.27383357e+00,  3.29348883e-01,\n",
      "         1.44469013e+00, -7.00714644e-01,  1.43788047e+00,\n",
      "         1.44005662e+00, -5.94856495e-01,  1.07276665e-01,\n",
      "        -1.85035941e-01,  1.52506848e-01, -8.16257738e-02,\n",
      "         9.10234594e-01, -1.08330117e+00, -8.58027839e-01,\n",
      "        -1.30923084e+00],\n",
      "       [ 8.01329041e-02,  5.29810859e-01,  5.18007908e-01,\n",
      "         1.34005189e+00,  1.35552017e+00,  2.86883792e-01,\n",
      "         1.41501206e+00, -7.44515949e-01,  1.41061470e+00,\n",
      "         1.41073560e+00, -5.48083208e-01, -1.59294586e-01,\n",
      "         1.95023212e-01, -1.63417595e-01,  2.19082835e-01,\n",
      "         5.98867319e-01, -1.28166313e+00, -8.58747282e-01,\n",
      "        -1.30848858e+00],\n",
      "       [ 1.02141783e-01,  4.98439167e-01,  4.84383478e-01,\n",
      "         1.30857299e+00,  1.37437092e+00,  2.55034974e-01,\n",
      "         1.36802178e+00, -7.54944831e-01,  1.35997828e+00,\n",
      "         1.36186723e+00, -5.11765127e-01,  1.91280129e-01,\n",
      "        -1.25303018e-01,  2.12879115e-01, -6.50440481e-02,\n",
      "         2.46769549e-01, -1.39267864e+00, -8.59466222e-01,\n",
      "        -1.30774577e+00],\n",
      "       [ 1.12567041e-01,  5.33732321e-01,  5.18007908e-01,\n",
      "         1.35993330e+00,  1.39322167e+00,  2.90864895e-01,\n",
      "         1.44716331e+00, -7.63287937e-01,  1.43788047e+00,\n",
      "         1.44005662e+00, -5.43956154e-01, -1.83643665e-01,\n",
      "         2.31504655e-01, -1.30501843e-01,  2.63376386e-01,\n",
      "        -1.22063837e-01, -1.40878218e+00, -8.60184659e-01,\n",
      "        -1.30700241e+00],\n",
      "       [ 1.39209368e-01,  5.67718321e-01,  5.50339091e-01,\n",
      "         1.40135291e+00,  1.38693809e+00,  3.25367781e-01,\n",
      "         1.50899262e+00, -7.59116384e-01,  1.50020221e+00,\n",
      "         1.49869866e+00, -5.68993619e-01, -2.56830731e-01,\n",
      "         6.95465011e-01, -2.27474174e-01,  6.78963868e-01,\n",
      "        -4.82497451e-01, -1.32887633e+00, -8.60902590e-01,\n",
      "        -1.30625851e+00],\n",
      "       [ 1.65851695e-01,  6.56604781e-01,  6.35693412e-01,\n",
      "         1.50573032e+00,  1.36808733e+00,  4.19587201e-01,\n",
      "         1.66974885e+00, -7.48687502e-01,  1.65990169e+00,\n",
      "         1.65996427e+00, -6.47682795e-01, -2.91727358e-01,\n",
      "         4.91235155e-01, -3.53001572e-01,  5.13676671e-01,\n",
      "        -8.09968339e-01, -1.15840652e+00, -8.61620017e-01,\n",
      "        -1.30551406e+00],\n",
      "       [ 1.46159540e-01,  9.88621856e-01,  9.66764721e-01,\n",
      "         1.90004499e+00,  1.30525149e+00,  8.07081156e-01,\n",
      "         2.33503231e+00, -7.00714644e-01,  2.32596536e+00,\n",
      "         2.32457406e+00, -9.74270391e-01,  2.22542270e-01,\n",
      "         5.77573000e-01,  1.61690707e-01,  6.81428994e-01,\n",
      "        -1.08215990e+00, -9.08990009e-01, -8.62336939e-01,\n",
      "        -1.30476907e+00],\n",
      "       [ 1.64693333e-01,  1.07750832e+00,  1.05341229e+00,\n",
      "         1.80726507e+00,  8.40266281e-01,  9.19879053e-01,\n",
      "         2.17180291e+00, -3.83676626e-01,  2.16237077e+00,\n",
      "         2.15842162e+00, -1.03672649e+00, -3.79018363e-02,\n",
      "         1.25020857e-01, -1.38417292e-01,  1.07216293e-01,\n",
      "        -1.28052273e+00, -5.97624106e-01, -8.63053355e-01,\n",
      "        -1.30402354e+00],\n",
      "       [ 1.38051006e-01,  1.29711016e+00,  1.27326433e+00,\n",
      "         1.82383291e+00,  3.06161644e-01,  1.21846172e+00,\n",
      "         2.20148098e+00,  5.85079782e-02,  2.19353165e+00,\n",
      "         2.19018605e+00, -1.23207374e+00,  3.75024229e-01,\n",
      "        -5.45153901e-01,  3.88594499e-01, -7.06104932e-01,\n",
      "        -1.39153873e+00, -2.45527887e-01, -8.63769265e-01,\n",
      "        -1.30327746e+00],\n",
      "       [ 1.24150661e-01,  1.26312416e+00,  1.24093315e+00,\n",
      "         1.76584546e+00,  2.74743725e-01,  1.17068850e+00,\n",
      "         2.10008090e+00,  6.89368604e-02,  2.09225881e+00,\n",
      "         2.09000590e+00, -1.20208381e+00,  1.50978022e-02,\n",
      "        -9.90493236e-01, -5.78497534e-02, -1.16080937e+00,\n",
      "        -1.40764235e+00,  1.23303874e-01, -8.64484669e-01,\n",
      "        -1.30253084e+00],\n",
      "       [ 1.10250317e-01,  1.46311870e+00,  1.44009323e+00,\n",
      "         1.84702789e+00, -3.94354735e-02,  1.46263600e+00,\n",
      "         2.24352492e+00,  4.08918419e-01,  2.23637785e+00,\n",
      "         2.23416758e+00, -1.38147312e+00,  2.87996782e-01,\n",
      "        -7.92315738e-01,  2.89929405e-01, -8.52681817e-01,\n",
      "        -1.32773614e+00,  4.83735900e-01, -8.65199567e-01,\n",
      "        -1.30178368e+00],\n",
      "       [ 1.05616869e-01,  1.65396316e+00,  1.63020058e+00,\n",
      "         1.66643840e+00, -7.48852103e-01,  1.76519977e+00,\n",
      "         1.92943198e+00,  1.14728328e+00,  1.92476911e+00,\n",
      "         1.92141004e+00, -1.52592004e+00,  4.59015710e-01,\n",
      "        -1.13255308e+00,  4.99705896e-01, -1.43404681e+00,\n",
      "        -1.15726558e+00,  8.11205345e-01, -8.65913957e-01,\n",
      "        -1.30103598e+00],\n",
      "       [ 1.07933593e-01,  1.71932085e+00,  1.69486295e+00,\n",
      "         1.58856954e+00, -9.88256652e-01,  1.87534360e+00,\n",
      "         1.80330018e+00,  1.42469154e+00,  1.79623051e+00,\n",
      "         1.79679570e+00, -1.57296846e+00,  5.13323333e-01,\n",
      "        -1.38328030e+00,  5.52871058e-01, -1.49146958e+00,\n",
      "        -9.07847970e-01,  1.08339571e+00, -8.66627841e-01,\n",
      "        -1.30028773e+00],\n",
      "       [ 1.76276953e-01,  1.33109616e+00,  1.30300902e+00,\n",
      "         1.70620122e+00, -1.73396974e-03,  1.26756199e+00,\n",
      "         1.99868082e+00,  3.06715374e-01,  1.98709086e+00,\n",
      "         1.98738233e+00, -1.23977758e+00,  2.23085379e+00,\n",
      "         1.45528683e+00,  2.10301176e+00,  1.29945043e+00,\n",
      "        -5.96480695e-01,  1.28175767e+00, -8.67341216e-01,\n",
      "        -1.29953895e+00],\n",
      "       [ 1.53109712e-01,  1.41344685e+00,  1.38707009e+00,\n",
      "         1.72608264e+00, -1.52539985e-01,  1.38832209e+00,\n",
      "         2.03083207e+00,  4.69405936e-01,  2.02214684e+00,\n",
      "         2.01914677e+00, -1.31709107e+00,  9.47893940e-01,\n",
      "         7.05638384e-01,  1.17436909e+00,  8.21565004e-01,\n",
      "        -2.44382924e-01,  1.39277318e+00, -8.68054083e-01,\n",
      "        -1.29878962e+00],\n",
      "       [ 1.82068763e-01,  1.39906816e+00,  1.37025788e+00,\n",
      "         1.68631981e+00, -1.90241489e-01,  1.36708954e+00,\n",
      "         1.96652958e+00,  4.90263700e-01,  1.95592999e+00,\n",
      "         1.95317447e+00, -1.29370442e+00,  1.02852404e+00,\n",
      "         2.77872788e-01,  1.17582092e+00,  2.90437659e-01,\n",
      "         1.24450461e-01,  1.40887672e+00, -8.68766442e-01,\n",
      "        -1.29803975e+00],\n",
      "       [ 2.38828503e-01,  1.15985901e+00,  1.12712739e+00,\n",
      "         1.59353989e+00,  1.86773549e-01,  1.02869585e+00,\n",
      "         1.81071969e+00,  8.97946247e-02,  1.80012562e+00,\n",
      "         1.79923912e+00, -1.06754183e+00,  2.33674267e-01,\n",
      "        -1.39271102e-02,  1.79740270e-01, -1.13307289e-01,\n",
      "         4.84884075e-01,  1.32897086e+00, -8.69478292e-01,\n",
      "        -1.29728934e+00],\n",
      "       [ 2.95588242e-01,  9.76857471e-01,  9.40899775e-01,\n",
      "         1.43780217e+00,  3.25012396e-01,  7.92483781e-01,\n",
      "         1.56340242e+00, -7.28959372e-02,  1.55083863e+00,\n",
      "         1.55001045e+00, -8.82374639e-01,  1.14655911e-01,\n",
      "        -3.61104109e-01,  8.86583597e-02, -3.89914164e-01,\n",
      "         8.12354964e-01,  1.15850106e+00, -8.70189633e-01,\n",
      "        -1.29653840e+00],\n",
      "       [ 3.31497466e-01,  9.33721394e-01,  8.94342872e-01,\n",
      "         1.43945895e+00,  4.38116907e-01,  7.39402417e-01,\n",
      "         1.56587560e+00, -1.58412771e-01,  1.55083863e+00,\n",
      "         1.55001045e+00, -8.35326216e-01,  1.72575654e-01,\n",
      "         6.22737089e-01,  8.66940473e-02,  7.44298946e-01,\n",
      "         1.08454653e+00,  9.09084545e-01, -8.70900465e-01,\n",
      "        -1.29578691e+00],\n",
      "       [ 3.37289276e-01,  8.51370703e-01,  8.12868292e-01,\n",
      "         1.39306899e+00,  5.57505003e-01,  6.39874860e-01,\n",
      "         1.49662676e+00, -2.56444263e-01,  1.48072667e+00,\n",
      "         1.48159473e+00, -7.58838135e-01,  4.46218865e-01,\n",
      "         5.70623317e-03,  5.16972266e-01, -2.42203934e-01,\n",
      "         1.28290936e+00,  5.97718642e-01, -8.71610786e-01,\n",
      "        -1.29503488e+00],\n",
      "       [ 3.52347982e-01,  7.15426704e-01,  6.77077326e-01,\n",
      "         1.34170868e+00,  8.15131945e-01,  4.84611872e-01,\n",
      "         1.41995841e+00, -4.35821037e-01,  1.40282448e+00,\n",
      "         1.40340534e+00, -6.32550261e-01,  2.91334474e-02,\n",
      "        -8.35787438e-01,  1.07989674e-01, -5.47050364e-01,\n",
      "         1.39392536e+00,  2.45622422e-01, -8.72320597e-01,\n",
      "        -1.29428232e+00],\n",
      "       [ 3.47714534e-01,  6.55297628e-01,  6.17587950e-01,\n",
      "         1.32017048e+00,  9.34520040e-01,  4.18260167e-01,\n",
      "         1.38533399e+00, -5.10908989e-01,  1.37166361e+00,\n",
      "         1.37164091e+00, -5.79448824e-01,  1.21300306e-01,\n",
      "        -2.52872028e-01,  9.13600610e-02, -2.84262720e-01,\n",
      "         1.41002897e+00, -1.23209338e-01, -8.73029898e-01,\n",
      "        -1.29352921e+00],\n",
      "       [ 3.52347982e-01,  5.71639782e-01,  5.33526876e-01,\n",
      "         1.27709409e+00,  1.07904247e+00,  3.29348883e-01,\n",
      "         1.32350467e+00, -5.98511599e-01,  1.30934186e+00,\n",
      "         1.30811203e+00, -5.01585059e-01,  1.51357035e-01,\n",
      "        -5.62883540e-02,  1.44726327e-01, -4.46630412e-02,\n",
      "         1.33012276e+00, -4.83641364e-01, -8.73738688e-01,\n",
      "        -1.29277557e+00],\n",
      "       [ 3.38447638e-01,  4.84060475e-01,  4.48172554e-01,\n",
      "         1.19425487e+00,  1.14187831e+00,  2.40437599e-01,\n",
      "         1.20231921e+00, -6.38141351e-01,  1.18859348e+00,\n",
      "         1.19082795e+00, -4.22345608e-01,  4.25490325e-02,\n",
      "        -4.65166067e-01,  1.17030638e-01, -2.66808288e-01,\n",
      "         1.15965221e+00, -8.11110810e-01, -8.74446966e-01,\n",
      "        -1.29202140e+00],\n",
      "       [ 3.30339103e-01,  3.74259553e-01,  3.40833028e-01,\n",
      "         1.07662319e+00,  1.19214698e+00,  1.31620804e-01,\n",
      "         1.03908981e+00, -6.69427998e-01,  1.02499890e+00,\n",
      "         1.02711892e+00, -3.19169241e-01,  2.32415962e-01,\n",
      "         3.94558393e-01,  1.92511574e-01,  4.28703100e-01,\n",
      "         9.10234594e-01, -1.08330117e+00, -8.75154732e-01,\n",
      "        -1.29126668e+00],\n",
      "       [ 3.46556172e-01,  3.25894861e-01,  2.90396384e-01,\n",
      "         1.06668248e+00,  1.31781866e+00,  8.65016446e-02,\n",
      "         1.02672394e+00, -7.29915514e-01,  1.01331357e+00,\n",
      "         1.01490183e+00, -2.70469995e-01, -1.34371164e-02,\n",
      "        -4.08690417e-01,  7.86596731e-02, -2.08344125e-01,\n",
      "         5.98867319e-01, -1.28166313e+00, -8.75861987e-01,\n",
      "        -1.29051143e+00],\n",
      "       [ 3.38447638e-01,  2.99751784e-01,  2.65824685e-01,\n",
      "         1.05342821e+00,  1.36808733e+00,  6.12879969e-02,\n",
      "         1.00941173e+00, -7.54944831e-01,  9.97733131e-01,\n",
      "         9.97797897e-01, -2.48734174e-01, -4.17051927e-02,\n",
      "        -1.40645532e-01,  8.46450202e-03, -5.30841475e-02,\n",
      "         2.46769549e-01, -1.39267864e+00, -8.76568728e-01,\n",
      "        -1.28975564e+00],\n",
      "       [ 3.17597121e-01,  3.25894861e-01,  2.92982878e-01,\n",
      "         1.09484782e+00,  1.38693809e+00,  8.65016446e-02,\n",
      "         1.06629471e+00, -7.63287937e-01,  1.05226466e+00,\n",
      "         1.05399652e+00, -2.80925200e-01, -1.90659186e-01,\n",
      "        -1.92834943e-01, -2.62574490e-01, -2.07183528e-01,\n",
      "        -1.22063837e-01, -1.40878218e+00, -8.77274957e-01,\n",
      "        -1.28899932e+00],\n",
      "       [ 3.24547293e-01,  3.62495168e-01,  3.29193803e-01,\n",
      "         1.14289456e+00,  1.39322167e+00,  1.21004531e-01,\n",
      "         1.13307037e+00, -7.65373714e-01,  1.11848152e+00,\n",
      "         1.11996881e+00, -3.15042186e-01, -2.34141320e-01,\n",
      "         2.40389213e-01, -1.69880935e-01,  2.72157688e-01,\n",
      "        -4.82497451e-01, -1.32887633e+00, -8.77980673e-01,\n",
      "        -1.28824246e+00],\n",
      "       [ 3.31497466e-01,  4.91903398e-01,  4.57225285e-01,\n",
      "         1.30028907e+00,  1.37437092e+00,  2.48399804e-01,\n",
      "         1.35565591e+00, -7.54944831e-01,  1.34050274e+00,\n",
      "         1.34231988e+00, -4.39128964e-01, -3.28784217e-01,\n",
      "         1.90765786e-01, -3.75148294e-01,  2.08691259e-01,\n",
      "        -8.09968339e-01, -1.15840652e+00, -8.78685876e-01,\n",
      "        -1.28748507e+00],\n",
      "       [ 3.10646949e-01,  7.57255627e-01,  7.22340981e-01,\n",
      "         1.57200170e+00,  1.22356490e+00,  5.31058065e-01,\n",
      "         1.77609528e+00, -6.63170668e-01,  1.76117453e+00,\n",
      "         1.76258784e+00, -6.99133410e-01,  1.76261193e-01,\n",
      "         9.06003633e-01,  1.49394583e-01,  9.89508952e-01,\n",
      "        -1.08215990e+00, -9.08990009e-01, -8.79390564e-01,\n",
      "        -1.28672714e+00],\n",
      "       [ 2.80529536e-01,  1.37553939e+00,  1.33792670e+00,\n",
      "         1.59519668e+00, -3.03346000e-01,  1.33258666e+00,\n",
      "         1.81319287e+00,  5.65351652e-01,  1.80012562e+00,\n",
      "         1.79923912e+00, -1.23840189e+00, -3.31678952e-01,\n",
      "         3.29050542e-01, -3.39085053e-01,  3.47430279e-01,\n",
      "        -1.28052273e+00, -5.97624106e-01, -8.80094738e-01,\n",
      "        -1.28596867e+00],\n",
      "       [ 2.21453072e-01,  1.50233331e+00,  1.46854467e+00,\n",
      "         1.37318758e+00, -9.22907378e-01,  1.52367956e+00,\n",
      "         1.46694869e+00,  1.15771216e+00,  1.45346090e+00,\n",
      "         1.45471713e+00, -1.34405449e+00,  2.09554675e-01,\n",
      "        -5.85621395e-01,  1.70305103e-01, -7.61113096e-01,\n",
      "        -1.39153873e+00, -2.45527887e-01, -8.80798398e-01,\n",
      "        -1.28520968e+00],\n",
      "       [ 1.68168419e-01,  1.59906270e+00,  1.56941796e+00,\n",
      "         1.30691621e+00, -1.19310149e+00,  1.67628848e+00,\n",
      "         1.36802178e+00,  1.48100751e+00,  1.35997828e+00,\n",
      "         1.35942381e+00, -1.43484970e+00,  5.04618004e-01,\n",
      "         1.40990834e+00,  5.39045851e-01,  1.47501259e+00,\n",
      "        -1.40764235e+00,  1.23303874e-01, -8.81501542e-01,\n",
      "        -1.28445015e+00],\n",
      "       [ 1.26467385e-01,  1.67487762e+00,  1.64959929e+00,\n",
      "         1.23733127e+00, -1.41679708e+00,  1.79970266e+00,\n",
      "         1.26414852e+00,  1.76258733e+00,  1.25870545e+00,\n",
      "         1.25680024e+00, -1.50445935e+00,  1.13584793e+00,\n",
      "         5.75673526e-01,  1.43972366e+00,  6.59734250e-01,\n",
      "        -1.32773614e+00,  4.83735900e-01, -8.82204171e-01,\n",
      "        -1.28369008e+00],\n",
      "       [ 6.73909217e-02,  1.70494216e+00,  1.68451697e+00,\n",
      "         1.15946240e+00, -1.56571802e+00,  1.85012995e+00,\n",
      "         1.15532893e+00,  1.93362099e+00,  1.14964239e+00,\n",
      "         1.15173325e+00, -1.54022716e+00,  1.53843561e+00,\n",
      "         1.62882889e+00,  1.58620390e+00,  1.57106233e+00,\n",
      "        -1.15726558e+00,  8.11205345e-01, -8.82906285e-01,\n",
      "        -1.28292949e+00],\n",
      "       [-1.71695068e-02,  1.84742193e+00,  1.83453366e+00,\n",
      "         1.15117848e+00, -1.78627181e+00,  2.09695829e+00,\n",
      "         1.14296306e+00,  2.33200429e+00,  1.14185217e+00,\n",
      "         1.14195958e+00, -1.68054702e+00, -4.01571939e-01,\n",
      "         4.92101649e-01, -5.00741829e-01,  5.19174426e-01,\n",
      "        -9.07847970e-01,  1.08339571e+00, -8.83607882e-01,\n",
      "        -1.28216836e+00],\n",
      "       [-4.61285577e-02,  1.81605023e+00,  1.80608222e+00,\n",
      "         9.78872914e-01, -1.94838828e+00,  2.04122286e+00,\n",
      "         9.10484826e-01,  2.44255044e+00,  9.08145620e-01,\n",
      "         9.07391418e-01, -1.65138250e+00,  3.59119821e-02,\n",
      "        -2.35539858e-01, -7.76771402e-02, -3.64963243e-01,\n",
      "        -5.96480695e-01,  1.28175767e+00, -8.84308963e-01,\n",
      "        -1.28140670e+00],\n",
      "       [-9.59381252e-02,  1.79121431e+00,  1.78539026e+00,\n",
      "         1.11969958e+00, -1.74417180e+00,  1.99875777e+00,\n",
      "         1.10091913e+00,  2.21311504e+00,  1.09900597e+00,\n",
      "         1.10042147e+00, -1.65440901e+00, -1.55828047e-01,\n",
      "        -1.55964334e-01, -1.11406660e-01, -7.74610296e-02,\n",
      "        -2.44382924e-01,  1.39277318e+00, -8.85009527e-01,\n",
      "        -1.28064450e+00],\n",
      "       [-1.19105366e-01,  1.80690016e+00,  1.80349572e+00,\n",
      "         1.07330962e+00, -1.82397332e+00,  2.02529845e+00,\n",
      "         1.03661663e+00,  2.30906075e+00,  1.03668422e+00,\n",
      "         1.03689259e+00, -1.67064209e+00,  3.48422348e-01,\n",
      "         7.72740478e-02,  3.60409894e-01,  7.81919382e-02,\n",
      "         1.24450461e-01,  1.40887672e+00, -8.85709574e-01,\n",
      "        -1.27988178e+00],\n",
      "       [-1.33005710e-01,  1.54546939e+00,  1.54484626e+00,\n",
      "         1.32845440e+00, -1.06805817e+00,  1.59135830e+00,\n",
      "         1.40017302e+00,  1.32040272e+00,  1.39892938e+00,\n",
      "         1.40096193e+00, -1.47639538e+00,  8.08523832e-01,\n",
      "         5.41797597e-01,  7.94012090e-01,  5.27291316e-01,\n",
      "         4.84884075e-01,  1.32897086e+00, -8.86409103e-01,\n",
      "        -1.27911853e+00],\n",
      "       [-1.15630280e-01,  1.30364593e+00,  1.30430227e+00,\n",
      "         1.47259464e+00, -3.66181839e-01,  1.22775096e+00,\n",
      "         1.61781222e+00,  5.65351652e-01,  1.61705549e+00,\n",
      "         1.61842616e+00, -1.27994758e+00,  7.03683548e-01,\n",
      "         5.18512315e-01,  7.14748560e-01,  5.17032091e-01,\n",
      "         8.12354964e-01,  1.15850106e+00, -8.87108115e-01,\n",
      "        -1.27835474e+00],\n",
      "       [-1.05205021e-01,  1.11410862e+00,  1.11419491e+00,\n",
      "         1.48584891e+00,  8.62362057e-02,  9.67652281e-01,\n",
      "         1.64007078e+00,  1.39853259e-01,  1.64042614e+00,\n",
      "         1.63797351e+00, -1.11789189e+00,  4.11461095e-01,\n",
      "         2.03575323e-01,  4.42981356e-01,  1.51914198e-01,\n",
      "         1.08454653e+00,  9.09084545e-01, -8.87806608e-01,\n",
      "        -1.27759043e+00],\n",
      "       [-8.78295909e-02,  9.33721394e-01,  9.34433538e-01,\n",
      "         1.43614538e+00,  4.31833324e-01,  7.39402417e-01,\n",
      "         1.56092925e+00, -1.54241218e-01,  1.56252396e+00,\n",
      "         1.55978412e+00, -9.54735665e-01,  5.69915183e-01,\n",
      "         4.34296961e-01,  6.81586361e-01,  4.93210784e-01,\n",
      "         1.28290936e+00,  5.97718642e-01, -8.88504582e-01,\n",
      "        -1.27682558e+00],\n",
      "       [-1.04046659e-01,  9.19342702e-01,  9.21501065e-01,\n",
      "         1.30360264e+00,  1.99340717e-01,  7.22150974e-01,\n",
      "         1.36307543e+00, -1.44941970e-02,  1.36387339e+00,\n",
      "         1.36186723e+00, -9.36851761e-01,  4.63284976e-02,\n",
      "        -1.37521157e-02,  6.62977353e-02,  3.32651621e-02,\n",
      "         1.39392536e+00,  2.45622422e-01, -8.89202038e-01,\n",
      "        -1.27606021e+00],\n",
      "       [-1.31847348e-01,  7.74248627e-01,  7.80537110e-01,\n",
      "         1.33342476e+00,  6.32908010e-01,  5.50963576e-01,\n",
      "         1.40511937e+00, -3.19017557e-01,  1.40671959e+00,\n",
      "         1.40584876e+00, -8.21844504e-01,  6.96347845e-02,\n",
      "         4.44887678e-02,  1.32159772e-01,  1.21450891e-01,\n",
      "         1.41002897e+00, -1.23209338e-01, -8.89898974e-01,\n",
      "        -1.27529431e+00],\n",
      "       [-1.78181830e-01,  7.63791396e-01,  7.74070873e-01,\n",
      "         1.34336546e+00,  6.83176682e-01,  5.39020269e-01,\n",
      "         1.41995841e+00, -3.50304203e-01,  1.42230003e+00,\n",
      "         1.42295269e+00, -8.26796969e-01,  4.46055969e-01,\n",
      "         2.21534677e-01,  5.04466914e-01,  1.73037064e-01,\n",
      "         1.33012276e+00, -4.83641364e-01, -8.90595391e-01,\n",
      "        -1.27452788e+00]])>, <tf.Tensor: shape=(), dtype=float64, numpy=0.7062766270989289>)\n"
     ]
    }
   ],
   "source": [
    "for element in val_ds.take(1):\n",
    "    print(element)"
   ],
   "metadata": {
    "collapsed": false,
    "ExecuteTime": {
     "end_time": "2023-09-20T00:55:44.223619500Z",
     "start_time": "2023-09-20T00:55:44.004920700Z"
    }
   },
   "id": "9b9af716201d2c3"
  },
  {
   "cell_type": "code",
   "execution_count": 36,
   "outputs": [
    {
     "data": {
      "text/plain": "<_MapDataset element_spec=(TensorSpec(shape=(None, 19), dtype=tf.float64, name=None), TensorSpec(shape=(), dtype=tf.float64, name=None))>"
     },
     "execution_count": 36,
     "metadata": {},
     "output_type": "execute_result"
    }
   ],
   "source": [
    "val_ds"
   ],
   "metadata": {
    "collapsed": false,
    "ExecuteTime": {
     "end_time": "2023-09-20T00:55:44.223619500Z",
     "start_time": "2023-09-20T00:55:44.083025300Z"
    }
   },
   "id": "d7eec1bc2c1c5e8c"
  },
  {
   "cell_type": "code",
   "execution_count": 37,
   "outputs": [],
   "source": [
    "# Evaluating the naive model\n",
    "from typing import Iterator\n",
    "\n",
    "\n",
    "def naive_eval(example):\n",
    "    batch_maes = []\n",
    "    for tup in example:\n",
    "        train, label = tup[0], tup[1]\n",
    "        predictions = train[-1, 1]\n",
    "        mae = np.abs(predictions - label)\n",
    "        batch_maes.append(mae)\n",
    "    return np.mean(batch_maes)"
   ],
   "metadata": {
    "collapsed": false,
    "ExecuteTime": {
     "end_time": "2023-09-20T00:55:44.223619500Z",
     "start_time": "2023-09-20T00:55:44.098646100Z"
    }
   },
   "id": "979bab0b821ac081"
  },
  {
   "cell_type": "code",
   "execution_count": 38,
   "outputs": [],
   "source": [
    "naive_loss = round(naive_eval(val_ds), 2)"
   ],
   "metadata": {
    "collapsed": false,
    "ExecuteTime": {
     "end_time": "2023-09-20T00:55:52.223931400Z",
     "start_time": "2023-09-20T00:55:44.114267300Z"
    }
   },
   "id": "3567a74af4a42f7b"
  },
  {
   "cell_type": "code",
   "execution_count": 39,
   "outputs": [
    {
     "data": {
      "text/plain": "0.34680139928041426"
     },
     "execution_count": 39,
     "metadata": {},
     "output_type": "execute_result"
    }
   ],
   "source": [
    "naive_eval(val_ds)"
   ],
   "metadata": {
    "collapsed": false,
    "ExecuteTime": {
     "end_time": "2023-09-20T00:55:59.958094Z",
     "start_time": "2023-09-20T00:55:52.223931400Z"
    }
   },
   "id": "bccea05cafdf3a6f"
  },
  {
   "cell_type": "code",
   "execution_count": 77,
   "outputs": [],
   "source": [
    "from tensorflow.keras.models import Sequential\n",
    "from tensorflow.keras.layers import Flatten, Dense\n",
    "\n",
    "model = Sequential([\n",
    "    Flatten(input_shape=(n_steps, X_train.shape[2])),\n",
    "    Dense(32, activation=\"relu\"),\n",
    "    Dense(1)\n",
    "])"
   ],
   "metadata": {
    "collapsed": false,
    "ExecuteTime": {
     "end_time": "2023-09-20T20:52:41.204739300Z",
     "start_time": "2023-09-20T20:52:39.929705100Z"
    }
   },
   "id": "b48749367ba9b34d"
  },
  {
   "cell_type": "code",
   "execution_count": 41,
   "outputs": [
    {
     "data": {
      "text/plain": "(48992, 48, 19)"
     },
     "execution_count": 41,
     "metadata": {},
     "output_type": "execute_result"
    }
   ],
   "source": [
    "X_train.shape"
   ],
   "metadata": {
    "collapsed": false,
    "ExecuteTime": {
     "end_time": "2023-09-20T01:12:19.327412500Z",
     "start_time": "2023-09-20T01:12:19.233685100Z"
    }
   },
   "id": "454a67e36d13d44e"
  },
  {
   "cell_type": "code",
   "execution_count": 86,
   "outputs": [],
   "source": [
    "def generator(data, lookback, delay, min_index, max_index, shuffle=False, batch_size=32, step=1):\n",
    "    if max_index is None:\n",
    "        max_index = len(data) - delay - 1\n",
    "    i = min_index + lookback\n",
    "    while True:\n",
    "        if shuffle == True: # pay attention ! We are not shuffeling timesteps but elemnts within a batch ! It is important to keep the data in time order\n",
    "            rows = np.random.randint(min_index + lookback, max_index-delay-1, size=batch_size) # return an array containing size elements ranging from min_index+lookback to max_index\n",
    "        else:\n",
    "            if i + batch_size >= max_index-delay-1: #Since we are incrementing on \"i\". If its value is greater than the max_index --> start from the begining\n",
    "                i = min_index + lookback # We need to start from the indice lookback, since we want to take lookback elements here.\n",
    "            rows = np.arange(i, min(i + batch_size, max_index)) # Just creating an array that contain the indices of each sample in the batch\n",
    "            i+=len(rows) # rows represents the number of sample in one batch\n",
    "            \n",
    "        samples = np.zeros((len(rows), lookback//step, data.shape[-1])) # shape = (batch_size, lookback, nbr_of_features)\n",
    "        targets = np.zeros((len(rows),delay)) #Shape = (batch_size,delay)\n",
    "        \n",
    "        for j, row in enumerate(rows): # We loop here for batch_size ie 32 loops\n",
    "            indice_samples = range(rows[j] - lookback, rows[j], step) #From one indice given by rows[j], we are picking loockback previous elements in the dataset\n",
    "            indice_targets = range(rows[j], rows[j]+delay, step)\n",
    "            samples[j] = data[indice_samples]\n",
    "            targets[j] = data[:,1][indice_targets] #We only want to predict the temperature for now,since [1], the second column\n",
    "        yield samples, targets # The yield that replace the return to create a generator and not a regular function."
   ],
   "metadata": {
    "collapsed": false,
    "ExecuteTime": {
     "end_time": "2023-09-20T21:18:08.152912200Z",
     "start_time": "2023-09-20T21:18:08.122865300Z"
    }
   },
   "id": "13f2f1b1dcdf4bcd"
  },
  {
   "cell_type": "code",
   "execution_count": 87,
   "outputs": [],
   "source": [
    "train_gen = generator(data=train_df_standardized.to_numpy(), lookback=n_steps, delay=n_horizon, min_index=0, max_index=len(train_df_standardized.to_numpy()), batch_size=batch_size)"
   ],
   "metadata": {
    "collapsed": false,
    "ExecuteTime": {
     "end_time": "2023-09-20T21:18:09.719584300Z",
     "start_time": "2023-09-20T21:18:09.639686Z"
    }
   },
   "id": "5c55b0a9f418f5a5"
  },
  {
   "cell_type": "code",
   "execution_count": 88,
   "outputs": [
    {
     "ename": "ValueError",
     "evalue": "The truth value of an array with more than one element is ambiguous. Use a.any() or a.all()",
     "output_type": "error",
     "traceback": [
      "\u001B[1;31m---------------------------------------------------------------------------\u001B[0m",
      "\u001B[1;31mValueError\u001B[0m                                Traceback (most recent call last)",
      "Cell \u001B[1;32mIn[88], line 3\u001B[0m\n\u001B[0;32m      1\u001B[0m model\u001B[38;5;241m.\u001B[39mcompile(optimizer\u001B[38;5;241m=\u001B[39m\u001B[38;5;124m\"\u001B[39m\u001B[38;5;124mAdam\u001B[39m\u001B[38;5;124m\"\u001B[39m, loss\u001B[38;5;241m=\u001B[39m\u001B[38;5;124m\"\u001B[39m\u001B[38;5;124mmae\u001B[39m\u001B[38;5;124m\"\u001B[39m)\n\u001B[0;32m      2\u001B[0m \u001B[38;5;66;03m# Remember that I use a `fit_generator` when data might not fit entirely into memory \u001B[39;00m\n\u001B[1;32m----> 3\u001B[0m history_generator \u001B[38;5;241m=\u001B[39m \u001B[43mmodel\u001B[49m\u001B[38;5;241;43m.\u001B[39;49m\u001B[43mfit\u001B[49m\u001B[43m(\u001B[49m\u001B[43mtrain_gen\u001B[49m\u001B[43m,\u001B[49m\u001B[43m \u001B[49m\u001B[43mepochs\u001B[49m\u001B[38;5;241;43m=\u001B[39;49m\u001B[38;5;241;43m30\u001B[39;49m\u001B[43m,\u001B[49m\u001B[43m \u001B[49m\u001B[43msteps_per_epoch\u001B[49m\u001B[38;5;241;43m=\u001B[39;49m\u001B[43mtrain_df_standardized\u001B[49m\u001B[38;5;241;43m.\u001B[39;49m\u001B[43mto_numpy\u001B[49m\u001B[43m(\u001B[49m\u001B[43m)\u001B[49m\u001B[38;5;241;43m/\u001B[39;49m\u001B[38;5;241;43m/\u001B[39;49m\u001B[43mbatch_size\u001B[49m\u001B[43m)\u001B[49m\n",
      "File \u001B[1;32m~\\PycharmProjects\\weather_time_series\\venv\\lib\\site-packages\\keras\\src\\utils\\traceback_utils.py:70\u001B[0m, in \u001B[0;36mfilter_traceback.<locals>.error_handler\u001B[1;34m(*args, **kwargs)\u001B[0m\n\u001B[0;32m     67\u001B[0m     filtered_tb \u001B[38;5;241m=\u001B[39m _process_traceback_frames(e\u001B[38;5;241m.\u001B[39m__traceback__)\n\u001B[0;32m     68\u001B[0m     \u001B[38;5;66;03m# To get the full stack trace, call:\u001B[39;00m\n\u001B[0;32m     69\u001B[0m     \u001B[38;5;66;03m# `tf.debugging.disable_traceback_filtering()`\u001B[39;00m\n\u001B[1;32m---> 70\u001B[0m     \u001B[38;5;28;01mraise\u001B[39;00m e\u001B[38;5;241m.\u001B[39mwith_traceback(filtered_tb) \u001B[38;5;28;01mfrom\u001B[39;00m \u001B[38;5;28;01mNone\u001B[39;00m\n\u001B[0;32m     71\u001B[0m \u001B[38;5;28;01mfinally\u001B[39;00m:\n\u001B[0;32m     72\u001B[0m     \u001B[38;5;28;01mdel\u001B[39;00m filtered_tb\n",
      "File \u001B[1;32m~\\PycharmProjects\\weather_time_series\\venv\\lib\\site-packages\\keras\\src\\engine\\data_adapter.py:1458\u001B[0m, in \u001B[0;36mDataHandler._infer_steps\u001B[1;34m(self, steps, dataset)\u001B[0m\n\u001B[0;32m   1456\u001B[0m \u001B[38;5;28;01mdef\u001B[39;00m \u001B[38;5;21m_infer_steps\u001B[39m(\u001B[38;5;28mself\u001B[39m, steps, dataset):\n\u001B[0;32m   1457\u001B[0m \u001B[38;5;250m    \u001B[39m\u001B[38;5;124;03m\"\"\"Infers steps_per_epoch needed to loop through a dataset.\"\"\"\u001B[39;00m\n\u001B[1;32m-> 1458\u001B[0m     \u001B[38;5;28;01mif\u001B[39;00m \u001B[43msteps\u001B[49m\u001B[43m \u001B[49m\u001B[38;5;241;43m==\u001B[39;49m\u001B[43m \u001B[49m\u001B[38;5;241;43m-\u001B[39;49m\u001B[38;5;241;43m1\u001B[39;49m:\n\u001B[0;32m   1459\u001B[0m         \u001B[38;5;28mself\u001B[39m\u001B[38;5;241m.\u001B[39m_log_indefinite_training_warning()\n\u001B[0;32m   1460\u001B[0m         \u001B[38;5;28;01mreturn\u001B[39;00m \u001B[38;5;28;01mNone\u001B[39;00m\n",
      "\u001B[1;31mValueError\u001B[0m: The truth value of an array with more than one element is ambiguous. Use a.any() or a.all()"
     ]
    }
   ],
   "source": [
    "model.compile(optimizer=\"Adam\", loss=\"mae\")\n",
    "# Remember that I use a `fit_generator` when data might not fit entirely into memory \n",
    "history_generator = model.fit(train_gen, epochs=30, steps_per_epoch=train_df_standardized.to_numpy()//batch_size)"
   ],
   "metadata": {
    "collapsed": false,
    "ExecuteTime": {
     "end_time": "2023-09-20T21:18:13.174051800Z",
     "start_time": "2023-09-20T21:18:11.920645900Z"
    }
   },
   "id": "334dfb7f69d3b9e"
  },
  {
   "cell_type": "code",
   "execution_count": 74,
   "outputs": [
    {
     "data": {
      "text/plain": "1533"
     },
     "execution_count": 74,
     "metadata": {},
     "output_type": "execute_result"
    }
   ],
   "source": [
    "train_df_standardized.shape[0] // batch_size"
   ],
   "metadata": {
    "collapsed": false,
    "ExecuteTime": {
     "end_time": "2023-09-20T20:50:25.777082200Z",
     "start_time": "2023-09-20T20:50:25.700910400Z"
    }
   },
   "id": "7da5747195f68a27"
  },
  {
   "cell_type": "markdown",
   "source": [
    "### Building a Powerful model"
   ],
   "metadata": {
    "collapsed": false
   },
   "id": "fb5d89cbc873fbf3"
  },
  {
   "cell_type": "code",
   "execution_count": 89,
   "outputs": [],
   "source": [
    "from tensorflow.keras.layers import LSTM, GRU, SimpleRNN\n",
    "\n",
    "\n",
    "model_LSTM = Sequential([\n",
    "    LSTM(30, return_sequences=True, input_shape=(None, 19), dropout=0.2, recurrent_dropout=0.2),\n",
    "    LSTM(30, dropout=0.2, recurrent_dropout=0.2),\n",
    "    Dense(n_horizon)\n",
    "])"
   ],
   "metadata": {
    "collapsed": false,
    "ExecuteTime": {
     "end_time": "2023-09-20T23:31:24.077608700Z",
     "start_time": "2023-09-20T23:31:21.209053100Z"
    }
   },
   "id": "629bc970a337673a"
  },
  {
   "cell_type": "code",
   "execution_count": 91,
   "outputs": [
    {
     "name": "stdout",
     "output_type": "stream",
     "text": [
      "Epoch 1/30\n",
      "1531/1531 [==============================] - 81s 47ms/step - loss: 0.1977 - val_loss: 0.1399\n",
      "Epoch 2/30\n",
      "1531/1531 [==============================] - 61s 40ms/step - loss: 0.1310 - val_loss: 0.1264\n",
      "Epoch 3/30\n",
      "1531/1531 [==============================] - 59s 39ms/step - loss: 0.1187 - val_loss: 0.1109\n",
      "Epoch 4/30\n",
      "1531/1531 [==============================] - 60s 39ms/step - loss: 0.1096 - val_loss: 0.1066\n",
      "Epoch 5/30\n",
      "1531/1531 [==============================] - 53s 34ms/step - loss: 0.1034 - val_loss: 0.0994\n",
      "Epoch 6/30\n",
      "1531/1531 [==============================] - 53s 35ms/step - loss: 0.0989 - val_loss: 0.1008\n",
      "Epoch 7/30\n",
      "1531/1531 [==============================] - 53s 35ms/step - loss: 0.0960 - val_loss: 0.0910\n",
      "Epoch 8/30\n",
      "1531/1531 [==============================] - 53s 35ms/step - loss: 0.0929 - val_loss: 0.0960\n",
      "Epoch 9/30\n",
      "1531/1531 [==============================] - 62s 41ms/step - loss: 0.0905 - val_loss: 0.0873\n",
      "Epoch 10/30\n",
      "1531/1531 [==============================] - 67s 44ms/step - loss: 0.0888 - val_loss: 0.0886\n",
      "Epoch 11/30\n",
      "1531/1531 [==============================] - 57s 37ms/step - loss: 0.0866 - val_loss: 0.0841\n",
      "Epoch 12/30\n",
      "1531/1531 [==============================] - 56s 37ms/step - loss: 0.0854 - val_loss: 0.0800\n",
      "Epoch 13/30\n",
      "1531/1531 [==============================] - 57s 37ms/step - loss: 0.0842 - val_loss: 0.0795\n",
      "Epoch 14/30\n",
      "1531/1531 [==============================] - 57s 37ms/step - loss: 0.0829 - val_loss: 0.0896\n",
      "Epoch 15/30\n",
      "1531/1531 [==============================] - 57s 37ms/step - loss: 0.0826 - val_loss: 0.0830\n",
      "Epoch 16/30\n",
      "1531/1531 [==============================] - 57s 37ms/step - loss: 0.0811 - val_loss: 0.0820\n",
      "Epoch 17/30\n",
      "1531/1531 [==============================] - 56s 37ms/step - loss: 0.0804 - val_loss: 0.0895\n",
      "Epoch 18/30\n",
      "1531/1531 [==============================] - 56s 37ms/step - loss: 0.0797 - val_loss: 0.0899\n",
      "Epoch 19/30\n",
      "1531/1531 [==============================] - 63s 41ms/step - loss: 0.0789 - val_loss: 0.0787\n",
      "Epoch 20/30\n",
      "1531/1531 [==============================] - 56s 37ms/step - loss: 0.0782 - val_loss: 0.0747\n",
      "Epoch 21/30\n",
      "1531/1531 [==============================] - 62s 41ms/step - loss: 0.0777 - val_loss: 0.0833\n",
      "Epoch 22/30\n",
      "1531/1531 [==============================] - 63s 41ms/step - loss: 0.0773 - val_loss: 0.0720\n",
      "Epoch 23/30\n",
      "1531/1531 [==============================] - 72s 47ms/step - loss: 0.0761 - val_loss: 0.0794\n",
      "Epoch 24/30\n",
      "1531/1531 [==============================] - 63s 41ms/step - loss: 0.0753 - val_loss: 0.0779\n",
      "Epoch 25/30\n",
      "1531/1531 [==============================] - 61s 40ms/step - loss: 0.0752 - val_loss: 0.0825\n",
      "Epoch 26/30\n",
      "1531/1531 [==============================] - 73s 48ms/step - loss: 0.0746 - val_loss: 0.0755\n",
      "Epoch 27/30\n",
      "1531/1531 [==============================] - 62s 40ms/step - loss: 0.0740 - val_loss: 0.0758\n",
      "Epoch 28/30\n",
      "1531/1531 [==============================] - 54s 36ms/step - loss: 0.0736 - val_loss: 0.0783\n",
      "Epoch 29/30\n",
      "1531/1531 [==============================] - 55s 36ms/step - loss: 0.0727 - val_loss: 0.0760\n",
      "Epoch 30/30\n",
      "1531/1531 [==============================] - 60s 39ms/step - loss: 0.0727 - val_loss: 0.0771\n"
     ]
    }
   ],
   "source": [
    "model_LSTM.compile(optimizer=\"Adam\", loss=\"mae\")\n",
    "history_LSTM = model_LSTM.fit(X_train, y_train, epochs=30, validation_data=(X_val, y_val))"
   ],
   "metadata": {
    "collapsed": false,
    "ExecuteTime": {
     "end_time": "2023-09-21T00:16:49.977713Z",
     "start_time": "2023-09-20T23:46:45.065108600Z"
    }
   },
   "id": "1b0c8b439fd969d8"
  },
  {
   "cell_type": "code",
   "execution_count": 92,
   "outputs": [
    {
     "data": {
      "text/plain": "<Figure size 800x600 with 1 Axes>",
      "image/png": "[encoded data removed]"
     },
     "metadata": {},
     "output_type": "display_data"
    }
   ],
   "source": [
    "plot(history_LSTM, naive_loss=0.3)"
   ],
   "metadata": {
    "collapsed": false,
    "ExecuteTime": {
     "end_time": "2023-09-21T00:18:00.344555200Z",
     "start_time": "2023-09-21T00:17:58.269675400Z"
    }
   },
   "id": "d890028b879b8d37"
  },
  {
   "cell_type": "code",
   "execution_count": null,
   "outputs": [],
   "source": [],
   "metadata": {
    "collapsed": false
   },
   "id": "98f8185ecc0e9eb1"
  }
 ],
 "metadata": {
  "kernelspec": {
   "display_name": "Python 3",
   "language": "python",
   "name": "python3"
  },
  "language_info": {
   "codemirror_mode": {
    "name": "ipython",
    "version": 2
   },
   "file_extension": ".py",
   "mimetype": "text/x-python",
   "name": "python",
   "nbconvert_exporter": "python",
   "pygments_lexer": "ipython2",
   "version": "2.7.6"
  }
 },
 "nbformat": 4,
 "nbformat_minor": 5
}
